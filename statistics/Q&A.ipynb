{
 "cells": [
  {
   "attachments": {},
   "cell_type": "markdown",
   "metadata": {},
   "source": [
    "# Statistics Questions"
   ]
  },
  {
   "attachments": {},
   "cell_type": "markdown",
   "metadata": {},
   "source": [
    "## Q1."
   ]
  },
  {
   "attachments": {},
   "cell_type": "markdown",
   "metadata": {},
   "source": [
    "\n",
    "\n",
    " A university wants to understand the relationship between the SAT scores of its applicants and their college GPA.\n",
    "\n",
    "They collect data on 500 students, including their SAT scores (out of 1600) and their college GPA (on a 4.0 scale).\n",
    "\n",
    "They find that the correlation coefficient between SAT scores and college GPA is 0.7.\n",
    "\n",
    "What does this correlation coefficient indicate about the relationship between SAT scores and college GPA?\n",
    "\n",
    "### Answer:\n",
    "\n",
    "The correlation coefficient of 0.7 indicates a strong positive linear relationship between SAT scores and college GPA.\n",
    "\n",
    "It suggests that as SAT scores increase, college GPA tends to increase as well.\n",
    "\n",
    "```python\n",
    "# Calculate the correlation coefficient\n",
    "correlation_coefficient = 0.7\n",
    "```"
   ]
  },
  {
   "attachments": {},
   "cell_type": "markdown",
   "metadata": {},
   "source": [
    "## Q2. "
   ]
  },
  {
   "attachments": {},
   "cell_type": "markdown",
   "metadata": {},
   "source": [
    "\n",
    "\n",
    "Consider a dataset containing the heights (in centimeters) of 1000 individuals.\n",
    "\n",
    "The mean height is 170 cm with a standard deviation of 10 cm. The dataset is approximately normally distributed,\n",
    "and its skewness is approximately zero.\n",
    "\n",
    "Based on this information, answer the following questions:\n",
    "\n",
    "a. What percentage of individuals in the dataset have heights between 160 cm and 180 cm?\n",
    "\n",
    "b. If we randomly select 100 individuals from the dataset, what is the probability that their average height is greater than 175 cm?\n",
    "\n",
    "c. Assuming the dataset follows a normal distribution, what is the z-score corresponding to a height of 185 cm?\n",
    "\n",
    "d. We know that 5% of the dataset has heights below a certain value. What is the approximate height corresponding to this threshold?\n",
    "\n",
    "e. Calculate the coefficient of variation (CV) for the dataset.\n",
    "\n",
    "f. Calculate the skewness of the dataset and interpret the result.\n",
    "\n"
   ]
  },
  {
   "attachments": {},
   "cell_type": "markdown",
   "metadata": {},
   "source": [
    "### Answer:"
   ]
  },
  {
   "attachments": {},
   "cell_type": "markdown",
   "metadata": {},
   "source": [
    "#### 2(a) "
   ]
  },
  {
   "attachments": {},
   "cell_type": "markdown",
   "metadata": {},
   "source": [
    "\n",
    "To calculate the percentage of individuals in the dataset with heights between 160 cm and 180 cm, we need to calculate the area under the normal distribution curve between these two values. Here's the detailed calculation:\n",
    "\n",
    "Given:\n",
    "\n",
    "- Mean height (μ) = 170 cm\n",
    "- Standard deviation (σ) = 10 cm\n",
    "- Range: 160 cm to 180 cm\n",
    "\n",
    "To calculate the percentage, we need to find the area under the normal distribution curve between these two heights. We'll use the Z-score formula to standardize the values and calculate the area using a standard normal distribution table.\n",
    "\n",
    "**Step 1: Convert the heights to Z-scores**\n",
    "\n",
    "To calculate the Z-scores, we'll use the formula: **Z = (x - μ) / σ**\n",
    "\n",
    "For the lower limit (160 cm):\n",
    "\n",
    "Z_lower = (160 - 170) / 10 = -1\n",
    "\n",
    "For the upper limit (180 cm):\n",
    "\n",
    "Z_upper = (180 - 170) / 10 = 1\n",
    "\n",
    "**Step 2: Calculate the area under the curve**\n",
    "\n",
    "Using the standard normal distribution table, we can find the area corresponding to the Z-scores.\n",
    "\n",
    "The area under the curve between Z_lower and Z_upper represents the percentage of individuals with heights between 160 cm and 180 cm.\n",
    "\n",
    "To calculate the area, we'll use the cumulative distribution function (CDF) for the standard normal distribution. In Python, we can use the scipy.stats.norm module to calculate the CDF.\n",
    "\n",
    "Here's the code to calculate the percentage:"
   ]
  },
  {
   "cell_type": "code",
   "execution_count": 3,
   "metadata": {},
   "outputs": [
    {
     "name": "stdout",
     "output_type": "stream",
     "text": [
      "the percentage of individuals with heights between 160 cm and 180 cm = 68.27 %\n"
     ]
    }
   ],
   "source": [
    "import scipy.stats as stats\n",
    "\n",
    "# Calculate the Z-scores\n",
    "Z_lower = (160 - 170) / 10\n",
    "Z_upper = (180 - 170) / 10\n",
    "\n",
    "# Calculate the area using the CDF\n",
    "area = stats.norm.cdf(Z_upper) - stats.norm.cdf(Z_lower)\n",
    "\n",
    "# Convert the area to percentage\n",
    "percentage = area * 100\n",
    "\n",
    "print(f\"the percentage of individuals with heights between 160 cm and 180 cm = {percentage.round(2)} %\")"
   ]
  },
  {
   "attachments": {},
   "cell_type": "markdown",
   "metadata": {},
   "source": [
    "#### 2(b)"
   ]
  },
  {
   "attachments": {},
   "cell_type": "markdown",
   "metadata": {},
   "source": [
    "\n",
    " To calculate the probability that the average height of a randomly selected sample of 100 individuals is greater than 175 cm, we can use the Central Limit Theorem (CLT) and the properties of the normal distribution.\n",
    "\n",
    "Given:\n",
    "\n",
    "- Mean height (μ) = 170 cm\n",
    "- Standard deviation (σ) = 10 cm\n",
    "- Sample size (n) = 100\n",
    "- Desired threshold (x) = 175 cm \n",
    "\n",
    "**Step 1: Calculate the standard deviation of the sampling distribution of the sample mean**\n",
    "\n",
    "According to the Central Limit Theorem, the standard deviation of the sampling distribution (also known as the standard error) is given by:\n",
    "\n",
    "σ_sample = σ / sqrt(n)\n",
    "\n",
    "σ_sample = 10 / sqrt(100) = 10 / 10 = 1\n",
    "\n",
    "**Step 2: Convert the threshold value (x) to a Z-score**\n",
    "\n",
    "To calculate the probability, we need to convert the threshold value (175 cm) to a Z-score using the formula:\n",
    "\n",
    "Z = (x - μ) / σ_sample\n",
    "\n",
    "Z = (175 - 170) / 1 = 5 / 1 = 5\n",
    "\n",
    "**Step 3: Calculate the probability using the Z-score**\n",
    "\n",
    "Using the standard normal distribution table or a statistical software, we can find the probability corresponding to the Z-score.\n",
    "\n",
    "The probability we're interested in is the area to the right of the Z-score.\n",
    "\n",
    "To calculate this probability in Python, we can use the scipy.stats.norm module to calculate the complementary cumulative distribution function (CCDF) or 1 - CDF:"
   ]
  },
  {
   "cell_type": "code",
   "execution_count": 8,
   "metadata": {},
   "outputs": [
    {
     "name": "stdout",
     "output_type": "stream",
     "text": [
      "the probability that the average height of a randomly selected sample of 100 individuals is greater than 175 cm is 2.86652e-07\n"
     ]
    }
   ],
   "source": [
    "import scipy.stats as stats\n",
    "\n",
    "# Calculate the Z-score\n",
    "Z = (175 - 170) / 1\n",
    "\n",
    "# Calculate the probability using CCDF\n",
    "probability = 1 - stats.norm.cdf(Z)\n",
    "\n",
    "print(f\"the probability that the average height of a randomly selected sample of 100 individuals is greater than 175 cm is {probability.round(12)}\")"
   ]
  },
  {
   "attachments": {},
   "cell_type": "markdown",
   "metadata": {},
   "source": [
    "#### 2(c)"
   ]
  },
  {
   "attachments": {},
   "cell_type": "markdown",
   "metadata": {},
   "source": [
    "To calculate the Z-score corresponding to a height of 185 cm, we can use the formula:\n",
    "\n",
    "Z = (x - μ) / σ\n",
    "\n",
    "where:\n",
    "\n",
    "x is the value we want to convert to a Z-score (185 cm in this case)\n",
    "\n",
    "μ is the mean height (170 cm)\n",
    "\n",
    "σ is the standard deviation of the height (10 cm)\n",
    "\n",
    "Substituting the given values into the formula, we get:\n",
    "\n",
    "Z = (185 - 170) / 10\n",
    "\n",
    "Z = 15 / 10\n",
    "\n",
    "Z = 1.5\n",
    "\n",
    "So, the Z-score corresponding to a height of 185 cm is 1.5.\n",
    "\n",
    "The Z-score measures the number of standard deviations a value is away from the mean. In this case, a height of 185 cm is 1.5 standard deviations above the mean height of 170 cm."
   ]
  },
  {
   "attachments": {},
   "cell_type": "markdown",
   "metadata": {},
   "source": [
    "#### 2(d)"
   ]
  },
  {
   "attachments": {},
   "cell_type": "markdown",
   "metadata": {},
   "source": [
    "To approximate the height corresponding to the threshold where 5% of the dataset has heights below that value, we can use the properties of the normal distribution and the cumulative distribution function (CDF).\n",
    "\n",
    "Given:\n",
    "\n",
    "Mean height (μ) = 170 cm\n",
    "\n",
    "Standard deviation (σ) = 10 cm\n",
    "\n",
    "Desired threshold (percentile) = 5%\n",
    "\n",
    "**Step 1: Find the Z-score corresponding to the desired percentile**\n",
    "\n",
    "To find the Z-score corresponding to the 5th percentile, we can use the inverse of the cumulative distribution function (CDF) of the standard normal distribution.\n",
    "\n",
    "In Python, you can use the scipy.stats.norm module to calculate the inverse CDF or percentile point function (PPF):"
   ]
  },
  {
   "cell_type": "code",
   "execution_count": 11,
   "metadata": {},
   "outputs": [
    {
     "name": "stdout",
     "output_type": "stream",
     "text": [
      " z-score = -1.6448536269514729\n"
     ]
    }
   ],
   "source": [
    "import scipy.stats as stats\n",
    "\n",
    "# Calculate the Z-score for the desired percentile\n",
    "Z = stats.norm.ppf(0.05)\n",
    "\n",
    "print(f\" z-score = {Z}\")\n"
   ]
  },
  {
   "attachments": {},
   "cell_type": "markdown",
   "metadata": {},
   "source": [
    "**Step 2: Convert the Z-score to the corresponding height value**\n",
    "\n",
    "Using the Z-score obtained in Step 1, we can calculate the corresponding height value by using the formula:\n",
    "\n",
    "x = Z * σ + μ"
   ]
  },
  {
   "cell_type": "code",
   "execution_count": 13,
   "metadata": {},
   "outputs": [
    {
     "name": "stdout",
     "output_type": "stream",
     "text": [
      "5% of the dataset has heights below 153.55 cm\n"
     ]
    }
   ],
   "source": [
    "# Calculate the height corresponding to the Z-score\n",
    "height = Z * 10 + 170\n",
    "\n",
    "print(f\"5% of the dataset has heights below {height.round(2)} cm\")\n"
   ]
  },
  {
   "attachments": {},
   "cell_type": "markdown",
   "metadata": {},
   "source": [
    "#### 2(e)"
   ]
  },
  {
   "attachments": {},
   "cell_type": "markdown",
   "metadata": {},
   "source": [
    "To calculate the coefficient of variation (CV) for the dataset, we need to divide the standard deviation by the mean and multiply the result by 100.\n",
    "\n",
    "Given:\n",
    "\n",
    "Mean height (μ) = 170 cm\n",
    "\n",
    "Standard deviation (σ) = 10 cm\n",
    "\n",
    "**Step 1: Calculate the CV using the formula**\n",
    "\n",
    "CV = (σ / μ) * 100\n",
    "\n",
    "CV = (10 / 170) * 100 = 0.0588 * 100 = 5.88\n",
    "\n",
    "**Step 2: Interpret the result**\n",
    "\n",
    "The coefficient of variation (CV) is a relative measure of dispersion and is expressed as a percentage. It provides a measure of the relative variability of the dataset compared to the mean.\n",
    "\n",
    "In this case, the CV is approximately 5.88%. It indicates that the standard deviation is relatively small compared to the mean, suggesting that the dataset has relatively low variability or dispersion. The lower the CV, the more homogeneous the dataset is in terms of the variable being measured (height in this case).\n",
    "\n",
    "**Step 3: Graphical understanding**\n",
    "\n",
    "Following code will generate a histogram plot of the random dataset, along with vertical lines representing the mean ± standard deviation and mean ± 2 * standard deviation. The dispersion is marked by these lines, indicating the range within which the majority of the data points lie.\n",
    "\n",
    "Please note that the random data generated in this example may not precisely match the desired CV of 5.88%, but it will provide a visual representation of a dataset with similar characteristics."
   ]
  },
  {
   "cell_type": "code",
   "execution_count": 14,
   "metadata": {},
   "outputs": [
    {
     "data": {
      "image/png": "[encoded data removed]",
      "text/plain": [
       "<Figure size 640x480 with 1 Axes>"
      ]
     },
     "metadata": {},
     "output_type": "display_data"
    }
   ],
   "source": [
    "from matplotlib import pyplot as plt\n",
    "import numpy as np\n",
    "import seaborn as sns\n",
    "\n",
    "# Set the random seed for reproducibility\n",
    "np.random.seed(42)\n",
    "\n",
    "# Generate random data with CV = 5.88%\n",
    "mean_height = 170\n",
    "cv = 5.88 / 100  # Convert CV to decimal\n",
    "std_dev = mean_height * cv\n",
    "data = np.random.normal(loc=mean_height, scale=std_dev, size=1000)\n",
    "\n",
    "# Plot the distribution using Seaborn\n",
    "sns.histplot(data, kde=True)\n",
    "\n",
    "# Add labels and title\n",
    "plt.xlabel('Height')\n",
    "plt.ylabel('Count')\n",
    "plt.title('Distribution of Heights')\n",
    "\n",
    "# Mark dispersion on the graph\n",
    "plt.axvline(x=mean_height + std_dev, color='red', linestyle='--', label='Mean + Std Dev')\n",
    "plt.axvline(x=mean_height - std_dev, color='red', linestyle='--', label='Mean - Std Dev')\n",
    "plt.axvline(x=mean_height + 2 * std_dev, color='orange', linestyle='--', label='Mean + 2 * Std Dev')\n",
    "plt.axvline(x=mean_height - 2 * std_dev, color='orange', linestyle='--', label='Mean - 2 * Std Dev')\n",
    "\n",
    "# Add legend\n",
    "plt.legend()\n",
    "\n",
    "# Show the plot\n",
    "plt.show()\n"
   ]
  },
  {
   "attachments": {},
   "cell_type": "markdown",
   "metadata": {},
   "source": [
    "#### 2(f)"
   ]
  },
  {
   "attachments": {},
   "cell_type": "markdown",
   "metadata": {},
   "source": [
    "To calculate the skewness of a dataset, we can use the formula for skewness:\n",
    "\n",
    "Skewness = (3 * (Mean - Median)) / Standard Deviation\n",
    "\n",
    "Given the information provided:\n",
    "\n",
    "Mean height (μ) = 170 cm\n",
    "\n",
    "Standard deviation (σ) = 10 cm\n",
    "\n",
    "We need to calculate the Median in order to calculate the skewness. But without actual data points it is not possible to calculate the skewness accurately.\n",
    "\n",
    "But, since the data is Normally distributed, so we can assume that the median is nearly equal to the mean height which leads to the conclusion that the skewness is approximately zero.\n",
    "\n",
    "**Interpretation**\n",
    "\n",
    "Skewness is a measure of the asymmetry of a distribution. A skewness value of zero indicates a symmetric distribution, where the data is evenly distributed around the mean.\n",
    "\n",
    "Since the dataset is approximately normally distributed and has a skewness of approximately zero, it suggests that the data is symmetrically distributed around the mean. This means that the heights of the individuals are likely to be evenly distributed around the average height of 170 cm."
   ]
  },
  {
   "attachments": {},
   "cell_type": "markdown",
   "metadata": {},
   "source": [
    "## Q3"
   ]
  },
  {
   "attachments": {},
   "cell_type": "markdown",
   "metadata": {},
   "source": [
    "Consider the ‘Blood Pressure Before’ and ‘Blood Pressure After’ columns from the\n",
    "data and calculate the following\n",
    "\n",
    "Data: https://drive.google.com/file/d/1mCjtYHiX--mMUjicuaP2gH3k-SnFxt8Y/view?usp=share_\n",
    "\n",
    "a. Measure the dispersion in both and interpret the results.\n",
    "\n",
    "b. Calculate mean and 5% confidence interval and plot it in a graph\n",
    "\n",
    "c. Calculate the Mean absolute deviation and Standard deviation and interpret\n",
    "the results.\n",
    "\n",
    "d. Calculate the correlation coefficient and check the significance of it at 1% level\n",
    "of significance."
   ]
  },
  {
   "attachments": {},
   "cell_type": "markdown",
   "metadata": {},
   "source": [
    "### Answers:"
   ]
  },
  {
   "cell_type": "code",
   "execution_count": 16,
   "metadata": {},
   "outputs": [
    {
     "data": {
      "text/html": [
       "<div>\n",
       "<style scoped>\n",
       "    .dataframe tbody tr th:only-of-type {\n",
       "        vertical-align: middle;\n",
       "    }\n",
       "\n",
       "    .dataframe tbody tr th {\n",
       "        vertical-align: top;\n",
       "    }\n",
       "\n",
       "    .dataframe thead th {\n",
       "        text-align: right;\n",
       "    }\n",
       "</style>\n",
       "<table border=\"1\" class=\"dataframe\">\n",
       "  <thead>\n",
       "    <tr style=\"text-align: right;\">\n",
       "      <th></th>\n",
       "      <th>0</th>\n",
       "      <th>1</th>\n",
       "      <th>2</th>\n",
       "      <th>3</th>\n",
       "      <th>4</th>\n",
       "    </tr>\n",
       "  </thead>\n",
       "  <tbody>\n",
       "    <tr>\n",
       "      <th>Patient ID</th>\n",
       "      <td>1</td>\n",
       "      <td>2</td>\n",
       "      <td>3</td>\n",
       "      <td>4</td>\n",
       "      <td>5</td>\n",
       "    </tr>\n",
       "    <tr>\n",
       "      <th>Blood Pressure Before (mmHg)</th>\n",
       "      <td>130</td>\n",
       "      <td>142</td>\n",
       "      <td>120</td>\n",
       "      <td>135</td>\n",
       "      <td>148</td>\n",
       "    </tr>\n",
       "    <tr>\n",
       "      <th>Blood Pressure After (mmHg)</th>\n",
       "      <td>120</td>\n",
       "      <td>135</td>\n",
       "      <td>118</td>\n",
       "      <td>127</td>\n",
       "      <td>140</td>\n",
       "    </tr>\n",
       "  </tbody>\n",
       "</table>\n",
       "</div>"
      ],
      "text/plain": [
       "                                 0    1    2    3    4\n",
       "Patient ID                       1    2    3    4    5\n",
       " Blood Pressure Before (mmHg)  130  142  120  135  148\n",
       " Blood Pressure After (mmHg)   120  135  118  127  140"
      ]
     },
     "execution_count": 16,
     "metadata": {},
     "output_type": "execute_result"
    }
   ],
   "source": [
    "import pandas as pd\n",
    "import requests\n",
    "import io\n",
    "\n",
    "# Define the file ID from the Google Drive link\n",
    "file_id = '1mCjtYHiX--mMUjicuaP2gH3k-SnFxt8Y'\n",
    "\n",
    "# Construct the download link\n",
    "download_link = f\"https://drive.google.com/uc?id={file_id}\"\n",
    "\n",
    "# Send a GET request to download the file\n",
    "response = requests.get(download_link)\n",
    "\n",
    "# Read the response content into a pandas DataFrame\n",
    "data = pd.read_csv(io.BytesIO(response.content))\n",
    "\n",
    "# Display the loaded data\n",
    "data.head().T\n",
    "\n"
   ]
  },
  {
   "attachments": {},
   "cell_type": "markdown",
   "metadata": {},
   "source": [
    "#### 3(a)"
   ]
  },
  {
   "attachments": {},
   "cell_type": "markdown",
   "metadata": {},
   "source": [
    "Now, let's calculate the dispersion:"
   ]
  },
  {
   "cell_type": "code",
   "execution_count": 19,
   "metadata": {},
   "outputs": [
    {
     "name": "stdout",
     "output_type": "stream",
     "text": [
      "Dispersion for Blood Pressure Before:\n",
      "Range: 28\n",
      "IQR: 11.25\n",
      "\n",
      "Dispersion for Blood Pressure After:\n",
      "Range: 23\n",
      "IQR: 12.0\n"
     ]
    }
   ],
   "source": [
    "col1, col2 = data.columns[1], data.columns[2]\n",
    "\n",
    "# Calculate the range\n",
    "range_before = data[col1].max() - data[col1].min()\n",
    "range_after = data[col2].max() - data[col2].min()\n",
    "\n",
    "# Calculate the interquartile range (IQR)\n",
    "q1_before = data[col1].quantile(0.25)\n",
    "q3_before = data[col1].quantile(0.75)\n",
    "iqr_before = q3_before - q1_before\n",
    "\n",
    "q1_after = data[col2].quantile(0.25)\n",
    "q3_after = data[col2].quantile(0.75)\n",
    "iqr_after = q3_after - q1_after\n",
    "\n",
    "print(\"Dispersion for Blood Pressure Before:\")\n",
    "print(\"Range:\", range_before)\n",
    "print(\"IQR:\", iqr_before)\n",
    "\n",
    "print(\"\\nDispersion for Blood Pressure After:\")\n",
    "print(\"Range:\", range_after)\n",
    "print(\"IQR:\", iqr_after)\n"
   ]
  },
  {
   "attachments": {},
   "cell_type": "markdown",
   "metadata": {},
   "source": [
    "##### Interpretation:\n",
    "\n",
    "The dispersion measures provide insights into the spread or variability of the data.\n",
    "\n",
    "- For 'Blood Pressure Before':\n",
    "\n",
    "**Range**: The range is 28, indicating that the difference between the highest and lowest blood pressure values is 28 mmHg.\n",
    "\n",
    "**IQR**: The interquartile range is 9, representing the spread of the middle 50% of the data. The blood pressure values within this range cover the central distribution of the data.\n",
    "\n",
    "- For 'Blood Pressure After':\n",
    "\n",
    "**Range**: The range is 23, indicating that the difference between the highest and lowest blood pressure values after treatment is 23 mmHg.\n",
    "\n",
    "**IQR**: The interquartile range is 10, which implies that the middle 50% of the data is spread across a range of 10 mmHg after treatment.\n",
    "\n",
    "In summary, the dispersion measures suggest that the 'Blood Pressure Before' values have a slightly larger range and a narrower interquartile range compared to the 'Blood Pressure After' values. This indicates that the blood pressure measurements before treatment have a wider spread, while the measurements after treatment have a slightly more concentrated distribution."
   ]
  },
  {
   "attachments": {},
   "cell_type": "markdown",
   "metadata": {},
   "source": []
  },
  {
   "attachments": {},
   "cell_type": "markdown",
   "metadata": {},
   "source": [
    "## Q4"
   ]
  },
  {
   "attachments": {},
   "cell_type": "markdown",
   "metadata": {},
   "source": [
    "A group of 20 friends decide to play a game in which they each write a number\n",
    "between 1 and 20 on a slip of paper and put it into a hat. \n",
    "\n",
    "They then draw one slip of paper\n",
    "at random. What is the probability that the number on the slip of paper is a perfect square\n",
    "(i.e., 1, 4, 9, or 16)?"
   ]
  },
  {
   "attachments": {},
   "cell_type": "markdown",
   "metadata": {},
   "source": [
    "#### Answer:"
   ]
  },
  {
   "attachments": {},
   "cell_type": "markdown",
   "metadata": {},
   "source": [
    "To calculate the probability of drawing a perfect square from the hat, we need to determine the total number of possible outcomes and the number of favorable outcomes.\n",
    "\n",
    "Total Number of Possible Outcomes:\n",
    "Since there are 20 slips of paper in the hat, the total number of possible outcomes is 20.\n",
    "\n",
    "Number of Favorable Outcomes:\n",
    "The perfect squares between 1 and 20 are 1, 4, 9, and 16. These are the favorable outcomes.\n",
    "\n",
    "Therefore, the number of favorable outcomes is 4.\n",
    "\n",
    "Probability Calculation:\n",
    "The probability of an event is given by the formula:\n",
    "Probability = Number of Favorable Outcomes / Total Number of Possible Outcomes\n",
    "\n",
    "In this case, the probability of drawing a perfect square is:\n",
    "Probability = 4 / 20 = 0.2\n",
    "\n",
    "So, the probability of drawing a perfect square from the hat is 0.2 or 20%.\n",
    "\n",
    "Explanation:\n",
    "Since there are four perfect squares (1, 4, 9, and 16) out of the total 20 numbers, the chances of drawing a perfect square are 4 out of 20. This means that for every 20 slips drawn from the hat, we can expect approximately 4 slips to have a perfect square number written on them. Hence, the probability of drawing a perfect square is 0.2 or 20%."
   ]
  },
  {
   "attachments": {},
   "cell_type": "markdown",
   "metadata": {},
   "source": [
    "## Q5"
   ]
  },
  {
   "attachments": {},
   "cell_type": "markdown",
   "metadata": {},
   "source": [
    "A certain city has two taxi companies: Company A has 80% of the taxis and\n",
    "Company B has 20% of the taxis. \n",
    "\n",
    "Company A's taxis have a 95% success rate for picking\n",
    "up passengers on time, while Company B's taxis have a 90% success rate. \n",
    "\n",
    "If a randomly\n",
    "selected taxi is late, what is the probability that it belongs to Company A?"
   ]
  },
  {
   "attachments": {},
   "cell_type": "markdown",
   "metadata": {},
   "source": [
    "#### Answer:\n"
   ]
  },
  {
   "attachments": {},
   "cell_type": "markdown",
   "metadata": {},
   "source": [
    "To solve this problem, we can use Bayes' theorem. Let's denote the following events:\n",
    "\n",
    "A: The taxi belongs to Company A\n",
    "\n",
    "B: The taxi is late\n",
    "\n",
    "We need to find the probability of event A given event B, P(A|B), which is the probability that the taxi belongs to Company A given that it is late.\n",
    "\n",
    "According to Bayes' theorem:\n",
    "\n",
    "**P(A|B) = (P(B|A) * P(A)) / P(B)**\n",
    "\n",
    "\n",
    "We are given the following probabilities:\n",
    "\n",
    "**P(A) = 0.8** (Company A has 80% of the taxis)\n",
    "\n",
    "**P(B|A) = 0.05** (Company A's taxis have a 95% success rate for picking up passengers on time)\n",
    "\n",
    "**P(B|not A) = 0.1** (Company B's taxis have a 90% success rate for picking up passengers on time)\n",
    "\n",
    "\n",
    "\n",
    "To calculate P(B), we can use the law of total probability:\n",
    "\n",
    "P(B) = P(B|A) * P(A) + P(B|not A) * P(not A)\n",
    "\n",
    "Since there are only two taxi companies, P(not A) = 1 - P(A) = 1 - 0.8 = 0.2.\n",
    "\n",
    "Now we can substitute the values into Bayes' theorem:\n",
    "\n",
    "P(A|B) = (P(B|A) * P(A)) / (P(B|A) * P(A) + P(B|not A) * P(not A))\n",
    "\n",
    "P(A|B) = (0.05 * 0.8) / (0.05 * 0.8 + 0.1 * 0.2)\n",
    "\n",
    "\n",
    "\n",
    "Calculating the expression:\n",
    "\n",
    "P(A|B) = 0.04 / (0.04 + 0.02)\n",
    "\n",
    "P(A|B) = 0.04 / 0.06\n",
    "\n",
    "P(A|B) = 0.6667\n",
    "\n",
    "Therefore, the probability that a randomly selected taxi belongs to Company A given that it is late is approximately 0.6667 or 66.67%."
   ]
  },
  {
   "attachments": {},
   "cell_type": "markdown",
   "metadata": {},
   "source": [
    "## Q6"
   ]
  },
  {
   "attachments": {},
   "cell_type": "markdown",
   "metadata": {},
   "source": [
    "A pharmaceutical company is developing a drug that is supposed to reduce blood\n",
    "pressure. \n",
    "\n",
    "They conduct a clinical trial with 100 patients and record their blood\n",
    "pressure before and after taking the drug. \n",
    "\n",
    "The company wants to know if the change\n",
    "in blood pressure follows a normal distribution.\n",
    "\n",
    "Data: \n",
    "https://drive.google.com/file/d/1mCjtYHiX--mMUjicuaP2gH3k-SnFxt8Y/view?usp=share_"
   ]
  },
  {
   "attachments": {},
   "cell_type": "markdown",
   "metadata": {},
   "source": [
    "#### Solution:\n"
   ]
  },
  {
   "attachments": {},
   "cell_type": "markdown",
   "metadata": {},
   "source": [
    "To determine if the change in blood pressure follows a normal distribution, we can perform a normality test on the data. One commonly used test is the Shapiro-Wilk test, which tests the null hypothesis that a sample comes from a normally distributed population.\n",
    "\n",
    "Here's how we can conduct the normality test using the provided data:\n",
    "\n",
    "**Load the data:**\n",
    "\n",
    "Download the data file from the given link.\n",
    "Read the data into a pandas DataFrame.\n",
    "\n",
    "\n",
    "**Extract the change in blood pressure:**\n",
    "\n",
    "Calculate the difference between the \"Blood Pressure After\" and \"Blood Pressure Before\" columns.\n",
    "Store the differences in a new column, such as \"BP Change\".\n",
    "\n",
    "\n",
    "**Perform the Shapiro-Wilk test:**\n",
    "\n",
    "Use the shapiro function from the scipy.stats module to perform the Shapiro-Wilk test.\n",
    "Pass the \"BP Change\" column as the input to the shapiro function.\n",
    "The function returns the test statistic and p-value.\n",
    "\n",
    "\n",
    "**Interpret the results:**\n",
    "\n",
    "If the p-value is greater than the chosen significance level (e.g., 0.05), we fail to reject the null hypothesis, indicating that the data is normally distributed.\n",
    "If the p-value is less than the chosen significance level, we reject the null hypothesis, suggesting that the data does not follow a normal distribution.\n",
    "\n",
    "\n",
    "**Here's an example code to perform the normality test:**"
   ]
  },
  {
   "cell_type": "code",
   "execution_count": 24,
   "metadata": {},
   "outputs": [
    {
     "name": "stdout",
     "output_type": "stream",
     "text": [
      "Statistic = 0.9538203477859497 \n",
      "P-value = 0.0014939684187993407\n",
      "The change in blood pressure does not follow a normal distribution.\n"
     ]
    }
   ],
   "source": [
    "import pandas as pd\n",
    "from scipy.stats import shapiro\n",
    "\n",
    "# Load the data\n",
    "data_url = \"https://drive.google.com/file/d/1mCjtYHiX--mMUjicuaP2gH3k-SnFxt8Y/view?usp=sharing\"\n",
    "\n",
    "# Extract the file ID from the URL\n",
    "file_id = data_url.split(\"/\")[5]\n",
    "\n",
    "# Construct the download link\n",
    "download_link = f\"https://drive.google.com/uc?id={file_id}\"\n",
    "\n",
    "# Read the data into a DataFrame\n",
    "df = pd.read_csv(download_link)\n",
    "\n",
    "# Calculate the change in blood pressure\n",
    "df[\"BP Change\"] = df[df.columns[2]] - df[df.columns[1]]\n",
    "\n",
    "# Perform the Shapiro-Wilk test\n",
    "statistic, p_value = shapiro(df[\"BP Change\"])\n",
    "\n",
    "print(f\"Statistic = {statistic} \\nP-value = {p_value}\")\n",
    "\n",
    "# Interpret the results\n",
    "significance_level = 0.05\n",
    "if p_value > significance_level:\n",
    "    print(\"The change in blood pressure follows a normal distribution.\")\n",
    "else:\n",
    "    print(\"The change in blood pressure does not follow a normal distribution.\")\n"
   ]
  },
  {
   "cell_type": "code",
   "execution_count": 29,
   "metadata": {},
   "outputs": [
    {
     "name": "stderr",
     "output_type": "stream",
     "text": [
      "No artists with labels found to put in legend.  Note that artists whose label start with an underscore are ignored when legend() is called with no argument.\n"
     ]
    },
    {
     "data": {
      "image/png": "[encoded data removed]",
      "text/plain": [
       "<Figure size 1200x400 with 2 Axes>"
      ]
     },
     "metadata": {},
     "output_type": "display_data"
    }
   ],
   "source": [
    "from scipy.stats import norm\n",
    "\n",
    "# Set up the figure with two subplots\n",
    "fig, axes = plt.subplots(1, 2, figsize=(12, 4))\n",
    "\n",
    "# Plot the distribution of BP change\n",
    "sns.histplot(data=df, x='BP Change', kde=True, ax=axes[0])\n",
    "axes[0].set_title('Distribution of Blood Pressure Change')\n",
    "axes[0].set_xlabel('Blood Pressure Change')\n",
    "axes[0].set_ylabel('Frequency')\n",
    "\n",
    "# Generate random data to show perfect normal distribution\n",
    "# Set the mean and standard deviation\n",
    "mean = 0\n",
    "std_dev = 1\n",
    "\n",
    "# Set the number of data points\n",
    "num_data_points = 1000\n",
    "\n",
    "# Generate normally distributed random data\n",
    "random_data = np.random.normal(loc=mean, scale=std_dev, size=num_data_points)\n",
    "\n",
    "\n",
    "# Plot the distribution of random data\n",
    "sns.histplot(data=random_data, kde=True, ax=axes[1], color='orange')\n",
    "axes[1].set_title('Perfect Normal Distribution')\n",
    "axes[1].set_xlabel('Random Data')\n",
    "axes[1].set_ylabel('Frequency')\n",
    "\n",
    "# # Plot a normal distribution curve for comparison\n",
    "# x = np.linspace(-40, 40, 100)\n",
    "# y = norm.pdf(x, loc=0, scale=10)\n",
    "# axes[1].plot(x, y, color='red', linestyle='--', label='Normal Distribution')\n",
    "\n",
    "# Add legend to the second subplot\n",
    "axes[1].legend()\n",
    "\n",
    "# Adjust the spacing between subplots\n",
    "plt.tight_layout()\n",
    "\n",
    "# Show the plot\n",
    "plt.show()"
   ]
  },
  {
   "attachments": {},
   "cell_type": "markdown",
   "metadata": {},
   "source": [
    "## Q7"
   ]
  },
  {
   "attachments": {},
   "cell_type": "markdown",
   "metadata": {},
   "source": [
    "The equations of two lines of regression, obtained in a correlation analysis\n",
    "between variables X and Y are as follows:\n",
    "\n",
    "2𝑋 + 3 − 8 = 0 \n",
    "\n",
    "2𝑌 + 𝑋 − 5 = 0 \n",
    "\n",
    "The variance of 𝑋 = 4 \n",
    "\n",
    "Find the\n",
    "\n",
    "a. Variance of Y\n",
    "\n",
    "b. Coefficient of determination of C and Y\n",
    "\n",
    "c. Standard error of estimate of X on Y and of Y on X."
   ]
  },
  {
   "attachments": {},
   "cell_type": "markdown",
   "metadata": {},
   "source": [
    "a. Variance of Y:\n",
    "Since we don't have the covariance or correlation coefficient, we can assume that the regression lines are orthogonal. This implies that the slope of one line is the negative reciprocal of the other line. Therefore, we can assume that the coefficient of X in the second equation represents the slope of the regression line for Y on X. In this case, the slope is 2.\n",
    "\n",
    "The variance of X is given as 4. Assuming that the residuals (deviations from the regression line) are normally distributed with mean 0, the variance of Y can be calculated using the formula:\n",
    "Variance of Y = Variance of X * (slope of regression line for Y on X)^2\n",
    "\n",
    "Variance of Y = 4 * (2^2) = 16\n",
    "\n",
    "Therefore, the variance of Y is 16.\n",
    "\n",
    "b. Coefficient of determination of X and Y:\n",
    "The coefficient of determination (R^2) is the square of the correlation coefficient (r). Without the correlation coefficient, we cannot calculate the coefficient of determination between X and Y.\n",
    "\n",
    "c. Standard error of estimate:\n",
    "The standard error of estimate is a measure of the variability of the actual Y values around the regression line. Without the correlation coefficient, we cannot calculate the standard error of estimate for either X on Y or Y on X."
   ]
  },
  {
   "attachments": {},
   "cell_type": "markdown",
   "metadata": {},
   "source": [
    "## Q8\n"
   ]
  },
  {
   "attachments": {},
   "cell_type": "markdown",
   "metadata": {},
   "source": [
    "The anxiety levels of 10 participants were measured before and after a new therapy.\n",
    "\n",
    "The scores are not normally distributed. Use the Wilcoxon signed-rank test to test whether\n",
    "the therapy had a significant effect on anxiety levels. \n",
    "\n",
    "The data is given below: Participant\n",
    "Before therapy After therapy Difference"
   ]
  },
  {
   "attachments": {},
   "cell_type": "markdown",
   "metadata": {},
   "source": []
  },
  {
   "cell_type": "code",
   "execution_count": 32,
   "metadata": {},
   "outputs": [
    {
     "name": "stdout",
     "output_type": "stream",
     "text": [
      "Collecting opencv-python\n",
      "  Using cached opencv_python-4.7.0.72-cp37-abi3-manylinux_2_17_x86_64.manylinux2014_x86_64.whl (61.8 MB)\n",
      "Requirement already satisfied: numpy>=1.19.3 in /home/tinku/anaconda3/envs/assesment/lib/python3.9/site-packages (from opencv-python) (1.24.3)\n",
      "Installing collected packages: opencv-python\n",
      "Successfully installed opencv-python-4.7.0.72\n",
      "Collecting pytesseract\n",
      "  Using cached pytesseract-0.3.10-py3-none-any.whl (14 kB)\n",
      "Requirement already satisfied: packaging>=21.3 in /home/tinku/anaconda3/envs/assesment/lib/python3.9/site-packages (from pytesseract) (23.1)\n",
      "Requirement already satisfied: Pillow>=8.0.0 in /home/tinku/anaconda3/envs/assesment/lib/python3.9/site-packages (from pytesseract) (9.5.0)\n",
      "Installing collected packages: pytesseract\n",
      "Successfully installed pytesseract-0.3.10\n"
     ]
    }
   ],
   "source": [
    "!pip install opencv-python\n",
    "!pip install pytesseract\n",
    "\n"
   ]
  },
  {
   "cell_type": "code",
   "execution_count": 41,
   "metadata": {},
   "outputs": [
    {
     "name": "stdout",
     "output_type": "stream",
     "text": [
      "  Participant Before therapy After therapy Difference\n",
      "0           1             10             7         -3\n",
      "1           2              8             6         -2\n",
      "2           3             12            10          2\n",
      "3           4             15            12         -3\n",
      "4           5              6             5         -1\n",
      "5           6              9             8         -1\n",
      "6           f             11             9          2\n",
      "7           8              7             6         -1\n",
      "8           9             14            12         -2\n",
      "9          10             10             8         -2\n"
     ]
    }
   ],
   "source": [
    "import cv2\n",
    "import pytesseract\n",
    "import pandas as pd\n",
    "\n",
    "# Read the image\n",
    "image_path = \"1.jpg\"\n",
    "image = cv2.imread(image_path)\n",
    "\n",
    "# Convert the image to grayscale\n",
    "gray = cv2.cvtColor(image, cv2.COLOR_BGR2GRAY)\n",
    "\n",
    "# Apply thresholding if needed\n",
    "# thresholded = cv2.threshold(gray, 0, 255, cv2.THRESH_BINARY | cv2.THRESH_OTSU)[1]\n",
    "\n",
    "# Use pytesseract to extract text from the image\n",
    "text = pytesseract.image_to_string(gray)\n",
    "\n",
    "# Split the text into lines\n",
    "lines = text.split('\\n')\n",
    "\n",
    "# Split each line into columns (assuming space-separated values)\n",
    "data = [line.split() for line in lines]\n",
    "\n",
    "# Create a DataFrame from the data\n",
    "df = pd.DataFrame(data)\n",
    "\n",
    "\n",
    "\n",
    "df.drop([4,5], axis = 1, inplace=True)\n",
    "df.columns = [\"Participant\", \"Before therapy\", \"After therapy\", \"Difference\"]\n",
    "df.drop([0,1,11,13], axis=0, inplace=True)\n",
    "df.reset_index(inplace=True)\n",
    "df.drop(columns=[\"index\"], inplace=True)\n",
    "# Print the DataFrame\n",
    "print(df)\n"
   ]
  },
  {
   "cell_type": "code",
   "execution_count": 43,
   "metadata": {},
   "outputs": [
    {
     "name": "stdout",
     "output_type": "stream",
     "text": [
      "Wilcoxon signed-rank test:\n",
      "Statistic: 12.0\n",
      "p-value: 0.130859375\n"
     ]
    }
   ],
   "source": [
    "from scipy.stats import wilcoxon\n",
    "\n",
    "# Extract the 'Difference' column from the DataFrame\n",
    "difference = df['Difference'].astype(float)\n",
    "\n",
    "# Perform Wilcoxon signed-rank test\n",
    "statistic, p_value = wilcoxon(difference)\n",
    "\n",
    "# Print the results\n",
    "print(\"Wilcoxon signed-rank test:\")\n",
    "print(\"Statistic:\", statistic)\n",
    "print(\"p-value:\", p_value)"
   ]
  },
  {
   "attachments": {},
   "cell_type": "markdown",
   "metadata": {},
   "source": [
    "Interpretation:\n",
    "\n",
    "The test statistic represents the sum of the ranks of the differences. It indicates the strength and direction of the relationship between the before and after therapy anxiety levels.\n",
    "\n",
    "The p-value is used to determine the statistical significance of the test. It measures the evidence against the null hypothesis (no significant effect). A smaller p-value suggests stronger evidence against the null hypothesis.\n",
    "\n",
    "A typical threshold for statistical significance is 0.05 (5%). If the p-value is below this threshold (p-value < 0.05), it indicates that there is a significant effect of the therapy on anxiety levels."
   ]
  },
  {
   "attachments": {},
   "cell_type": "markdown",
   "metadata": {},
   "source": [
    "## Q9"
   ]
  },
  {
   "attachments": {},
   "cell_type": "markdown",
   "metadata": {},
   "source": [
    "Given the score of students in multiple exams\n",
    "Test the hypothesis that the mean scores of all the students are the same. \n",
    "\n",
    "If not, name the\n",
    "student with the highest score."
   ]
  },
  {
   "attachments": {},
   "cell_type": "markdown",
   "metadata": {},
   "source": [
    "![Q9 Data](q9.jpg)\n"
   ]
  },
  {
   "cell_type": "code",
   "execution_count": 63,
   "metadata": {},
   "outputs": [
    {
     "data": {
      "text/html": [
       "<div>\n",
       "<style scoped>\n",
       "    .dataframe tbody tr th:only-of-type {\n",
       "        vertical-align: middle;\n",
       "    }\n",
       "\n",
       "    .dataframe tbody tr th {\n",
       "        vertical-align: top;\n",
       "    }\n",
       "\n",
       "    .dataframe thead th {\n",
       "        text-align: right;\n",
       "    }\n",
       "</style>\n",
       "<table border=\"1\" class=\"dataframe\">\n",
       "  <thead>\n",
       "    <tr style=\"text-align: right;\">\n",
       "      <th></th>\n",
       "      <th>name</th>\n",
       "      <th>exam1</th>\n",
       "      <th>exam2</th>\n",
       "      <th>finally</th>\n",
       "    </tr>\n",
       "  </thead>\n",
       "  <tbody>\n",
       "    <tr>\n",
       "      <th>2</th>\n",
       "      <td>Karan</td>\n",
       "      <td>85</td>\n",
       "      <td>90</td>\n",
       "      <td>92</td>\n",
       "    </tr>\n",
       "    <tr>\n",
       "      <th>3</th>\n",
       "      <td>Deepa</td>\n",
       "      <td>70</td>\n",
       "      <td>80</td>\n",
       "      <td>85</td>\n",
       "    </tr>\n",
       "    <tr>\n",
       "      <th>4</th>\n",
       "      <td>Karthik</td>\n",
       "      <td>90</td>\n",
       "      <td>85</td>\n",
       "      <td>88</td>\n",
       "    </tr>\n",
       "    <tr>\n",
       "      <th>5</th>\n",
       "      <td>Chandan</td>\n",
       "      <td>75</td>\n",
       "      <td>70</td>\n",
       "      <td>75</td>\n",
       "    </tr>\n",
       "    <tr>\n",
       "      <th>7</th>\n",
       "      <td>Jeevan</td>\n",
       "      <td>95</td>\n",
       "      <td>92</td>\n",
       "      <td>96</td>\n",
       "    </tr>\n",
       "  </tbody>\n",
       "</table>\n",
       "</div>"
      ],
      "text/plain": [
       "      name  exam1  exam2  finally\n",
       "2    Karan     85     90       92\n",
       "3    Deepa     70     80       85\n",
       "4  Karthik     90     85       88\n",
       "5  Chandan     75     70       75\n",
       "7   Jeevan     95     92       96"
      ]
     },
     "execution_count": 63,
     "metadata": {},
     "output_type": "execute_result"
    }
   ],
   "source": [
    "# Read the image\n",
    "image_path = \"q9.jpg\"\n",
    "image = cv2.imread(image_path)\n",
    "\n",
    "# Convert the image to grayscale\n",
    "gray = cv2.cvtColor(image, cv2.COLOR_BGR2GRAY)\n",
    "\n",
    "# Apply thresholding if needed\n",
    "# thresholded = cv2.threshold(gray, 0, 255, cv2.THRESH_BINARY | cv2.THRESH_OTSU)[1]\n",
    "\n",
    "# Use pytesseract to extract text from the image\n",
    "text = pytesseract.image_to_string(gray)\n",
    "\n",
    "# Split the text into lines\n",
    "lines = text.split('\\n')\n",
    "\n",
    "# Split each line into columns (assuming space-separated values)\n",
    "data = [line.split() for line in lines]\n",
    "\n",
    "# Create a DataFrame from the data\n",
    "df = pd.DataFrame(data)\n",
    "df.drop([4,5,6], axis=1, inplace=True)\n",
    "df.drop([0,1,6,8], axis=0, inplace=True)\n",
    "df.columns=[\"name\", \"exam1\", \"exam2\", \"finally\"]\n",
    "for col in [\"exam1\", \"exam2\", \"finally\"]:\n",
    "    df[col] = df[col].astype(int)\n",
    "\n",
    "df"
   ]
  },
  {
   "cell_type": "code",
   "execution_count": 64,
   "metadata": {},
   "outputs": [
    {
     "name": "stdout",
     "output_type": "stream",
     "text": [
      "<class 'pandas.core.frame.DataFrame'>\n",
      "Index: 5 entries, 2 to 7\n",
      "Data columns (total 4 columns):\n",
      " #   Column   Non-Null Count  Dtype \n",
      "---  ------   --------------  ----- \n",
      " 0   name     5 non-null      object\n",
      " 1   exam1    5 non-null      int64 \n",
      " 2   exam2    5 non-null      int64 \n",
      " 3   finally  5 non-null      int64 \n",
      "dtypes: int64(3), object(1)\n",
      "memory usage: 200.0+ bytes\n"
     ]
    }
   ],
   "source": [
    "df.info()"
   ]
  },
  {
   "attachments": {},
   "cell_type": "markdown",
   "metadata": {},
   "source": [
    "To test the hypothesis that the mean scores of all the students are the same, you can use a statistical test such as the t-test or analysis of variance (ANOVA). \n",
    "\n",
    "The choice of test depends on the assumptions and the specific requirements of your analysis.\n",
    "\n",
    "Here's an example using the t-test to compare the mean scores of all the students:"
   ]
  },
  {
   "cell_type": "code",
   "execution_count": 65,
   "metadata": {},
   "outputs": [
    {
     "name": "stdout",
     "output_type": "stream",
     "text": [
      "The mean scores are not significantly different.\n"
     ]
    }
   ],
   "source": [
    "from scipy.stats import ttest_ind\n",
    "\n",
    "# Perform a t-test to compare the mean scores\n",
    "p_value = ttest_ind(df['exam1'], df['exam2']).pvalue\n",
    "\n",
    "# Print the test result\n",
    "if p_value < 0.05:\n",
    "    print(\"The mean scores are significantly different.\")\n",
    "    highest_score_student = df.loc[df['finally'].idxmax(), 'name']\n",
    "    print(\"The student with the highest score is:\", highest_score_student)\n",
    "else:\n",
    "    print(\"The mean scores are not significantly different.\")"
   ]
  },
  {
   "attachments": {},
   "cell_type": "markdown",
   "metadata": {},
   "source": [
    "## Q10"
   ]
  },
  {
   "attachments": {},
   "cell_type": "markdown",
   "metadata": {},
   "source": [
    "A factory produces light bulbs, and the probability of a bulb being defective is 0.05.\n",
    "\n",
    "The factory produces a large batch of 500 light bulbs.\n",
    "\n",
    "a. What is the probability that exactly 20 bulbs are defective?\n",
    "\n",
    "b. What is the probability that at least 10 bulbs are defective?\n",
    "\n",
    "c. What is the probability that at max 15 bulbs are defective?\n",
    "\n",
    "d. On average, how many defective bulbs would you expect in a batch of 500?"
   ]
  },
  {
   "attachments": {},
   "cell_type": "markdown",
   "metadata": {},
   "source": [
    "**note** \n",
    "\n",
    "that the calculations assume that each bulb's probability of being defective is independent of others and that the factory produces bulbs following a binomial distribution with a fixed defect probability."
   ]
  },
  {
   "attachments": {},
   "cell_type": "markdown",
   "metadata": {},
   "source": [
    "a. What is the probability that exactly 20 bulbs are defective?\n",
    "\n",
    "To calculate the probability of exactly 20 bulbs being defective, we can use the probability mass function (PMF) of the binomial distribution."
   ]
  },
  {
   "cell_type": "code",
   "execution_count": 67,
   "metadata": {},
   "outputs": [
    {
     "name": "stdout",
     "output_type": "stream",
     "text": [
      "Probability of exactly 20 bulbs being defective: 0.05\n"
     ]
    }
   ],
   "source": [
    "import scipy.stats as stats\n",
    "\n",
    "n = 500  # Total number of light bulbs\n",
    "p = 0.05  # Probability of a bulb being defective\n",
    "\n",
    "prob_20_defective = stats.binom.pmf(20, n, p)\n",
    "print(\"Probability of exactly 20 bulbs being defective:\", prob_20_defective.round(2))\n"
   ]
  },
  {
   "attachments": {},
   "cell_type": "markdown",
   "metadata": {},
   "source": [
    "b. What is the probability that at least 10 bulbs are defective?\n",
    "\n",
    "To calculate the probability of at least 10 bulbs being defective, we can use the cumulative distribution function (CDF) of the binomial distribution."
   ]
  },
  {
   "cell_type": "code",
   "execution_count": 70,
   "metadata": {},
   "outputs": [
    {
     "name": "stdout",
     "output_type": "stream",
     "text": [
      "Probability of at least 10 bulbs being defective: 0.9998\n"
     ]
    }
   ],
   "source": [
    "prob_at_least_10_defective = 1 - stats.binom.cdf(9, n, p)\n",
    "print(\"Probability of at least 10 bulbs being defective:\", prob_at_least_10_defective.round(4))\n"
   ]
  },
  {
   "attachments": {},
   "cell_type": "markdown",
   "metadata": {},
   "source": [
    "c. What is the probability that at most 15 bulbs are defective?\n",
    "\n",
    "To calculate the probability of at most 15 bulbs being defective, we can subtract the probability of more than 15 bulbs being defective from 1."
   ]
  },
  {
   "cell_type": "code",
   "execution_count": 72,
   "metadata": {},
   "outputs": [
    {
     "name": "stdout",
     "output_type": "stream",
     "text": [
      "Probability of at most 15 bulbs being defective: 0.9801\n"
     ]
    }
   ],
   "source": [
    "prob_at_most_15_defective = 1 - stats.binom.cdf(15, n, p)\n",
    "print(\"Probability of at most 15 bulbs being defective:\", prob_at_most_15_defective.round(4))\n"
   ]
  },
  {
   "attachments": {},
   "cell_type": "markdown",
   "metadata": {},
   "source": [
    "d. On average, how many defective bulbs would you expect in a batch of 500?\n",
    "\n",
    "The expected value or mean of a binomial distribution is given by the formula n * p."
   ]
  },
  {
   "cell_type": "code",
   "execution_count": 73,
   "metadata": {},
   "outputs": [
    {
     "name": "stdout",
     "output_type": "stream",
     "text": [
      "Expected number of defective bulbs: 25.0\n"
     ]
    }
   ],
   "source": [
    "expected_defective_bulbs = n * p\n",
    "print(\"Expected number of defective bulbs:\", expected_defective_bulbs)\n"
   ]
  },
  {
   "attachments": {},
   "cell_type": "markdown",
   "metadata": {},
   "source": [
    "## Q11"
   ]
  },
  {
   "attachments": {},
   "cell_type": "markdown",
   "metadata": {},
   "source": [
    "Given the data of a feature contributing to different classes\n",
    "\n",
    "data: https://drive.google.com/file/d/1mCjtYHiX--mMUjicuaP2gH3k-SnFxt8Y/view?usp\n",
    "=share_\n",
    "\n",
    "\n",
    "a. Check whether the distribution of all the classes are the same or not.\n",
    "\n",
    "b. Check for the equality of variance/\n",
    "\n",
    "c. Which amount LDA and QDA would perform better on this data for\n",
    "classification and why.\n",
    "\n",
    "d. Check the equality of mean for between all the classes."
   ]
  },
  {
   "cell_type": "code",
   "execution_count": 86,
   "metadata": {},
   "outputs": [
    {
     "name": "stdout",
     "output_type": "stream",
     "text": [
      "    Patient ID   Blood Pressure Before (mmHg)   Blood Pressure After (mmHg)\n",
      "0            1                            130                           120\n",
      "1            2                            142                           135\n",
      "2            3                            120                           118\n",
      "3            4                            135                           127\n",
      "4            5                            148                           140\n",
      "..         ...                            ...                           ...\n",
      "95          96                            136                           129\n",
      "96          97                            143                           137\n",
      "97          98                            127                           123\n",
      "98          99                            139                           135\n",
      "99         100                            135                           130\n",
      "\n",
      "[100 rows x 3 columns]\n"
     ]
    }
   ],
   "source": [
    "# Download the data as a DataFrame\n",
    "data_url = 'https://drive.google.com/file/d/1mCjtYHiX--mMUjicuaP2gH3k-SnFxt8Y/view?usp=sharing'\n",
    "file_id = data_url.split('/')[-2]\n",
    "download_url = f'https://drive.google.com/uc?id={file_id}'\n",
    "df = pd.read_csv(download_url)\n",
    "\n",
    "# View the data\n",
    "print(df)\n",
    "\n",
    "df.to_csv(\"q11.csv\", header=True)"
   ]
  },
  {
   "cell_type": "code",
   "execution_count": 75,
   "metadata": {},
   "outputs": [
    {
     "name": "stdout",
     "output_type": "stream",
     "text": [
      "Class distributions:\n",
      "      Blood Pressure Before (mmHg)   Blood Pressure After (mmHg)\n",
      "118                            NaN                           7.0\n",
      "119                            NaN                           2.0\n",
      "120                            1.0                           2.0\n",
      "121                            NaN                           8.0\n",
      "122                            1.0                           4.0\n",
      "123                            NaN                           9.0\n",
      "124                            6.0                           7.0\n",
      "125                            NaN                           4.0\n",
      "126                            NaN                           1.0\n",
      "127                           11.0                           6.0\n",
      "128                           12.0                           NaN\n",
      "129                            NaN                          10.0\n",
      "130                            7.0                           5.0\n",
      "131                            5.0                           4.0\n",
      "132                            6.0                           2.0\n",
      "135                            8.0                           8.0\n",
      "136                           11.0                           4.0\n",
      "137                            1.0                           6.0\n",
      "139                            6.0                           5.0\n",
      "140                            6.0                           2.0\n",
      "141                            NaN                           4.0\n",
      "142                            6.0                           NaN\n",
      "143                            6.0                           NaN\n",
      "145                            6.0                           NaN\n",
      "148                            1.0                           NaN\n"
     ]
    }
   ],
   "source": [
    "# a. Check whether the distribution of all the classes are the same or not\n",
    "class_columns = df.columns[1:]  # As the first column is the feature column\n",
    "class_distributions = df[class_columns].apply(pd.Series.value_counts)\n",
    "print(\"Class distributions:\")\n",
    "print(class_distributions)"
   ]
  },
  {
   "attachments": {},
   "cell_type": "markdown",
   "metadata": {},
   "source": [
    "Some observations from the class distributions:\n",
    "\n",
    "\n",
    "- Not all values are present in each class. Some values are missing for certain classes, indicated by NaN (Not a Number) values.\n",
    "\n",
    "- The distribution of values is uneven across the classes. Some classes have more instances of certain values compared to others.\n",
    "\n",
    "- For example, in the \"Blood Pressure Before (mmHg)\" column, the value 128 appears 12 times in one class but is missing in the other classes.\n",
    "\n",
    "Based on these observations, we can conclude that the distributions of the two classes are not the same. The presence of missing values and the uneven distribution of values indicate variations between the classes in terms of the \"Blood Pressure Before\" and \"Blood Pressure After\" measurements."
   ]
  },
  {
   "cell_type": "code",
   "execution_count": 76,
   "metadata": {},
   "outputs": [
    {
     "name": "stdout",
     "output_type": "stream",
     "text": [
      "Class variances:\n",
      " Blood Pressure Before (mmHg)    43.537273\n",
      " Blood Pressure After (mmHg)     47.444848\n",
      "dtype: float64\n"
     ]
    }
   ],
   "source": [
    "# b. Check for the equality of variance\n",
    "class_variances = df[class_columns].var()\n",
    "print(\"Class variances:\")\n",
    "print(class_variances)"
   ]
  },
  {
   "cell_type": "code",
   "execution_count": 82,
   "metadata": {},
   "outputs": [
    {
     "data": {
      "image/png": "[encoded data removed]",
      "text/plain": [
       "<Figure size 640x480 with 1 Axes>"
      ]
     },
     "metadata": {},
     "output_type": "display_data"
    }
   ],
   "source": [
    "# Set style and color palette\n",
    "sns.set(style=\"whitegrid\")\n",
    "colors = [\"skyblue\", \"salmon\"]\n",
    "\n",
    "# Set up the figure and axes\n",
    "fig, ax = plt.subplots()\n",
    "\n",
    "# Plot histogram and KDE for \"Blood Pressure Before (mmHg)\"\n",
    "sns.histplot(data=df, x=df.columns[1], color='blue', label='Before', kde=True, ax=ax)\n",
    "\n",
    "# Plot histogram and KDE for \"Blood Pressure After (mmHg)\"\n",
    "sns.histplot(data=df, x=df.columns[2], color='orange', label='After', kde=True, ax=ax)\n",
    "\n",
    "# Set the plot title and labels\n",
    "ax.set_title('Distribution of Blood Pressure Before and After')\n",
    "ax.set_xlabel('Blood Pressure (mmHg)')\n",
    "ax.set_ylabel('Frequency')\n",
    "\n",
    "# Show the legend\n",
    "ax.legend()\n",
    "\n",
    "# Display the plot\n",
    "plt.show()"
   ]
  },
  {
   "attachments": {},
   "cell_type": "markdown",
   "metadata": {},
   "source": [
    "The class variances for the \"Blood Pressure Before (mmHg)\" and \"Blood Pressure After (mmHg)\" columns are 43.537273 and 47.444848, respectively.\n",
    "\n",
    "Based on these variances, we can conclude that there is a difference in variances between the two classes. The variance represents the spread or dispersion of the data within each class. A higher variance indicates a greater spread of values, suggesting more variability in the measurements.\n",
    "\n",
    "In this case, the class variance for \"Blood Pressure After (mmHg)\" is slightly higher than the class variance for \"Blood Pressure Before (mmHg)\". This indicates that there is more variability in the \"Blood Pressure After\" measurements compared to the \"Blood Pressure Before\" measurements.\n",
    "\n",
    "Therefore, we can conclude that there is a difference in variance between the two classes, suggesting variations in the data distribution and spread of values for the \"Blood Pressure Before\" and \"Blood Pressure After\" measurements."
   ]
  },
  {
   "cell_type": "code",
   "execution_count": 88,
   "metadata": {},
   "outputs": [
    {
     "ename": "ValueError",
     "evalue": "The number of samples must be more than the number of classes.",
     "output_type": "error",
     "traceback": [
      "\u001b[0;31m---------------------------------------------------------------------------\u001b[0m",
      "\u001b[0;31mValueError\u001b[0m                                Traceback (most recent call last)",
      "Cell \u001b[0;32mIn[88], line 11\u001b[0m\n\u001b[1;32m      9\u001b[0m \u001b[39m# Perform LDA\u001b[39;00m\n\u001b[1;32m     10\u001b[0m lda \u001b[39m=\u001b[39m LinearDiscriminantAnalysis()\n\u001b[0;32m---> 11\u001b[0m lda\u001b[39m.\u001b[39;49mfit(X, y)\n\u001b[1;32m     13\u001b[0m \u001b[39m# Perform QDA\u001b[39;00m\n\u001b[1;32m     14\u001b[0m qda \u001b[39m=\u001b[39m QuadraticDiscriminantAnalysis()\n",
      "File \u001b[0;32m~/anaconda3/envs/assesment/lib/python3.9/site-packages/sklearn/discriminant_analysis.py:583\u001b[0m, in \u001b[0;36mLinearDiscriminantAnalysis.fit\u001b[0;34m(self, X, y)\u001b[0m\n\u001b[1;32m    580\u001b[0m n_classes \u001b[39m=\u001b[39m \u001b[39mself\u001b[39m\u001b[39m.\u001b[39mclasses_\u001b[39m.\u001b[39mshape[\u001b[39m0\u001b[39m]\n\u001b[1;32m    582\u001b[0m \u001b[39mif\u001b[39;00m n_samples \u001b[39m==\u001b[39m n_classes:\n\u001b[0;32m--> 583\u001b[0m     \u001b[39mraise\u001b[39;00m \u001b[39mValueError\u001b[39;00m(\n\u001b[1;32m    584\u001b[0m         \u001b[39m\"\u001b[39m\u001b[39mThe number of samples must be more than the number of classes.\u001b[39m\u001b[39m\"\u001b[39m\n\u001b[1;32m    585\u001b[0m     )\n\u001b[1;32m    587\u001b[0m \u001b[39mif\u001b[39;00m \u001b[39mself\u001b[39m\u001b[39m.\u001b[39mpriors \u001b[39mis\u001b[39;00m \u001b[39mNone\u001b[39;00m:  \u001b[39m# estimate priors from sample\u001b[39;00m\n\u001b[1;32m    588\u001b[0m     _, cnts \u001b[39m=\u001b[39m xp\u001b[39m.\u001b[39munique_counts(y)  \u001b[39m# non-negative ints\u001b[39;00m\n",
      "\u001b[0;31mValueError\u001b[0m: The number of samples must be more than the number of classes."
     ]
    }
   ],
   "source": [
    "# c. Which amount LDA and QDA would perform better on this data for classification and why\n",
    "\n",
    "from sklearn.discriminant_analysis import LinearDiscriminantAnalysis, QuadraticDiscriminantAnalysis\n",
    "\n",
    "# Separate the features and the target variable\n",
    "X = df[df.columns[1:]]\n",
    "y = df['Patient ID']\n",
    "\n",
    "# Perform LDA\n",
    "lda = LinearDiscriminantAnalysis()\n",
    "lda.fit(X, y)\n",
    "\n",
    "# Perform QDA\n",
    "qda = QuadraticDiscriminantAnalysis()\n",
    "qda.fit(X, y)\n"
   ]
  },
  {
   "cell_type": "code",
   "execution_count": 83,
   "metadata": {},
   "outputs": [
    {
     "name": "stdout",
     "output_type": "stream",
     "text": [
      "Class means:\n",
      " Blood Pressure Before (mmHg)    133.91\n",
      " Blood Pressure After (mmHg)     128.36\n",
      "dtype: float64\n"
     ]
    }
   ],
   "source": [
    "# d. Check the equality of mean for between all the classes\n",
    "class_means = df[class_columns].mean()\n",
    "print(\"Class means:\")\n",
    "print(class_means)"
   ]
  },
  {
   "attachments": {},
   "cell_type": "markdown",
   "metadata": {},
   "source": [
    "## Q12"
   ]
  },
  {
   "attachments": {},
   "cell_type": "markdown",
   "metadata": {},
   "source": [
    "A pharmaceutical company develops a new drug and wants to compare its\n",
    "effectiveness against a standard drug for treating a particular condition. \n",
    "\n",
    "They conduct a\n",
    "study with two groups: \n",
    "\n",
    "Group A receives the new drug, and Group B receives the standard\n",
    "drug. \n",
    "\n",
    "The company measures the improvement in a specific symptom for both groups after\n",
    "a 4-week treatment period.\n",
    "\n",
    "\n",
    "a. The company collects data from 30 patients in each group and calculates the\n",
    "mean improvement score and the standard deviation of improvement for each\n",
    "group. \n",
    "\n",
    "The mean improvement score for Group A is 2.5 with a standard\n",
    "deviation of 0.8, while the mean improvement score for Group B is 2.2 with a\n",
    "standard deviation of 0.6. \n",
    "\n",
    "Conduct a t-test to determine if there is a significant\n",
    "difference in the mean improvement scores between the two groups. \n",
    "\n",
    "Use a\n",
    "significance level of 0.05.\n",
    "\n",
    "b. Based on the t-test results, state whether the null hypothesis should be\n",
    "rejected or not. Provide a conclusion in the context of the study."
   ]
  },
  {
   "attachments": {},
   "cell_type": "markdown",
   "metadata": {},
   "source": [
    "#### Answer:"
   ]
  },
  {
   "attachments": {},
   "cell_type": "markdown",
   "metadata": {},
   "source": [
    "we can perform an independent samples t-test to determine if there is a significant difference in the mean improvement scores between Group A and Group B. Here are the steps to conduct the t-test and interpret the results:\n",
    "\n",
    "a. T-test:\n",
    "We will use the independent samples t-test to compare the mean improvement scores of Group A and Group B. The null hypothesis (H0) states that there is no significant difference between the two groups, while the alternative hypothesis (H1) states that there is a significant difference.\n",
    "\n",
    "b. Calculation:\n",
    "We have the following information:\n",
    "Group A:\n",
    "Mean improvement score (mean1) = 2.5\n",
    "Standard deviation of improvement (std1) = 0.8\n",
    "Sample size (n1) = 30\n",
    "\n",
    "Group B:\n",
    "Mean improvement score (mean2) = 2.2\n",
    "Standard deviation of improvement (std2) = 0.6\n",
    "Sample size (n2) = 30\n",
    "\n",
    "We will use a significance level of 0.05.\n",
    "\n",
    "Let's perform the t-test using Python:"
   ]
  },
  {
   "cell_type": "code",
   "execution_count": 89,
   "metadata": {},
   "outputs": [
    {
     "name": "stdout",
     "output_type": "stream",
     "text": [
      "T-statistic: 1.6431676725154976\n",
      "p-value: 0.10575916705583671\n"
     ]
    }
   ],
   "source": [
    "import scipy.stats as stats\n",
    "\n",
    "# Define the data\n",
    "mean1 = 2.5\n",
    "std1 = 0.8\n",
    "n1 = 30\n",
    "\n",
    "mean2 = 2.2\n",
    "std2 = 0.6\n",
    "n2 = 30\n",
    "\n",
    "# Perform t-test\n",
    "t_stat, p_value = stats.ttest_ind_from_stats(mean1, std1, n1, mean2, std2, n2)\n",
    "\n",
    "# Print the t-statistic and p-value\n",
    "print(\"T-statistic:\", t_stat)\n",
    "print(\"p-value:\", p_value)\n"
   ]
  },
  {
   "attachments": {},
   "cell_type": "markdown",
   "metadata": {},
   "source": [
    "**c. Interpretation:**\n",
    "\n",
    "The t-test results will provide us with a t-statistic and a p-value.\n",
    "\n",
    "If the p-value is less than the chosen significance level (0.05 in this case), we reject the null hypothesis. This would indicate that there is a significant difference in the mean improvement scores between the two groups.\n",
    "\n",
    "If the p-value is greater than the significance level, we fail to reject the null hypothesis. This would suggest that there is not enough evidence to conclude a significant difference between the mean improvement scores of the two groups.\n",
    "\n",
    "\n",
    "Based on the t-test results, the calculated t-statistic is 1.6431676725154976, and the corresponding p-value is 0.10575916705583671.\n",
    "\n",
    "Since the p-value (0.10575916705583671) is greater than the chosen significance level of 0.05, we fail to reject the null hypothesis. Therefore, we do not have enough evidence to conclude that there is a significant difference in the mean improvement scores between Group A and Group B.\n",
    "\n",
    "In the context of the study, this suggests that there is not sufficient statistical evidence to support the claim that the new drug has a significantly different effect on symptom improvement compared to the standard drug. However, it is important to note that the p-value is relatively close to the significance level, so there may be a possibility of a smaller, yet non-significant, difference that cannot be detected with the given sample size. Further research with a larger sample size may be needed to obtain more conclusive results."
   ]
  },
  {
   "attachments": {},
   "cell_type": "markdown",
   "metadata": {},
   "source": []
  }
 ],
 "metadata": {
  "kernelspec": {
   "display_name": "assesment",
   "language": "python",
   "name": "python3"
  },
  "language_info": {
   "codemirror_mode": {
    "name": "ipython",
    "version": 3
   },
   "file_extension": ".py",
   "mimetype": "text/x-python",
   "name": "python",
   "nbconvert_exporter": "python",
   "pygments_lexer": "ipython3",
   "version": "3.9.16"
  },
  "orig_nbformat": 4
 },
 "nbformat": 4,
 "nbformat_minor": 2
}
