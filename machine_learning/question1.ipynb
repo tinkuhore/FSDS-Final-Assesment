{
 "cells": [
  {
   "attachments": {},
   "cell_type": "markdown",
   "metadata": {},
   "source": [
    "## Q-1. \n",
    "\n",
    "Imagine you have a dataset where you have different Instagram features\n",
    "like username , Caption , Hashtag , Followers , Time_Since_posted , and likes.\n",
    "\n",
    "Now your task is to predict the number of likes and Time Since posted and the rest of the features are\n",
    "your input features. \n",
    "\n",
    "Now you have to build a model which can predict the\n",
    "number of likes and Time Since posted.\n",
    "\n",
    "Dataset Link : https://www.kaggle.com/datasets/rxsraghavagrawal/instagram-reach"
   ]
  },
  {
   "cell_type": "code",
   "execution_count": 95,
   "metadata": {},
   "outputs": [],
   "source": [
    "# Required Libraries\n",
    "import pandas as pd\n",
    "import numpy as np\n",
    "import matplotlib.pyplot as plt\n",
    "import nltk\n",
    "from nltk.tokenize import word_tokenize\n",
    "import re\n",
    "import gensim\n",
    "import spacy\n",
    "from sklearn.model_selection import train_test_split\n",
    "from sklearn.linear_model import LinearRegression\n",
    "from sklearn.multioutput import MultiOutputRegressor\n",
    "from sklearn.metrics import mean_squared_error, r2_score"
   ]
  },
  {
   "attachments": {},
   "cell_type": "markdown",
   "metadata": {},
   "source": [
    "### Data Ingestion\n"
   ]
  },
  {
   "cell_type": "code",
   "execution_count": 56,
   "metadata": {},
   "outputs": [
    {
     "data": {
      "text/html": [
       "<div>\n",
       "<style scoped>\n",
       "    .dataframe tbody tr th:only-of-type {\n",
       "        vertical-align: middle;\n",
       "    }\n",
       "\n",
       "    .dataframe tbody tr th {\n",
       "        vertical-align: top;\n",
       "    }\n",
       "\n",
       "    .dataframe thead th {\n",
       "        text-align: right;\n",
       "    }\n",
       "</style>\n",
       "<table border=\"1\" class=\"dataframe\">\n",
       "  <thead>\n",
       "    <tr style=\"text-align: right;\">\n",
       "      <th></th>\n",
       "      <th>S.No</th>\n",
       "      <th>USERNAME</th>\n",
       "      <th>Caption</th>\n",
       "      <th>Followers</th>\n",
       "      <th>Hashtags</th>\n",
       "      <th>Time since posted</th>\n",
       "      <th>Likes</th>\n",
       "    </tr>\n",
       "  </thead>\n",
       "  <tbody>\n",
       "    <tr>\n",
       "      <th>0</th>\n",
       "      <td>1</td>\n",
       "      <td>mikequindazzi</td>\n",
       "      <td>Who are #DataScientist and what do they do? &gt;&gt;...</td>\n",
       "      <td>1600</td>\n",
       "      <td>#MachineLearning #AI #DataAnalytics #DataScien...</td>\n",
       "      <td>11 hours</td>\n",
       "      <td>139</td>\n",
       "    </tr>\n",
       "    <tr>\n",
       "      <th>1</th>\n",
       "      <td>2</td>\n",
       "      <td>drgorillapaints</td>\n",
       "      <td>We all know where it’s going. We just have to ...</td>\n",
       "      <td>880</td>\n",
       "      <td>#deck .#mac #macintosh#sayhello #apple #steve...</td>\n",
       "      <td>2 hours</td>\n",
       "      <td>23</td>\n",
       "    </tr>\n",
       "    <tr>\n",
       "      <th>2</th>\n",
       "      <td>3</td>\n",
       "      <td>aitrading_official</td>\n",
       "      <td>Alexander Barinov: 4 years as CFO in multinati...</td>\n",
       "      <td>255</td>\n",
       "      <td>#whoiswho #aitrading #ai #aitradingteam#instat...</td>\n",
       "      <td>2 hours</td>\n",
       "      <td>25</td>\n",
       "    </tr>\n",
       "    <tr>\n",
       "      <th>3</th>\n",
       "      <td>4</td>\n",
       "      <td>opensourcedworkplace</td>\n",
       "      <td>sfad</td>\n",
       "      <td>340</td>\n",
       "      <td>#iot #cre#workplace #CDO #bigdata #technology#...</td>\n",
       "      <td>3 hours</td>\n",
       "      <td>49</td>\n",
       "    </tr>\n",
       "    <tr>\n",
       "      <th>4</th>\n",
       "      <td>5</td>\n",
       "      <td>crea.vision</td>\n",
       "      <td>Ever missed a call while your phone was chargi...</td>\n",
       "      <td>304</td>\n",
       "      <td>#instamachinelearning #instabigdata#instamarke...</td>\n",
       "      <td>3 hours</td>\n",
       "      <td>30</td>\n",
       "    </tr>\n",
       "  </tbody>\n",
       "</table>\n",
       "</div>"
      ],
      "text/plain": [
       "   S.No              USERNAME   \n",
       "0     1         mikequindazzi  \\\n",
       "1     2       drgorillapaints   \n",
       "2     3    aitrading_official   \n",
       "3     4  opensourcedworkplace   \n",
       "4     5           crea.vision   \n",
       "\n",
       "                                             Caption  Followers   \n",
       "0  Who are #DataScientist and what do they do? >>...       1600  \\\n",
       "1  We all know where it’s going. We just have to ...        880   \n",
       "2  Alexander Barinov: 4 years as CFO in multinati...        255   \n",
       "3                                               sfad        340   \n",
       "4  Ever missed a call while your phone was chargi...        304   \n",
       "\n",
       "                                            Hashtags Time since posted  Likes  \n",
       "0  #MachineLearning #AI #DataAnalytics #DataScien...          11 hours    139  \n",
       "1   #deck .#mac #macintosh#sayhello #apple #steve...           2 hours     23  \n",
       "2  #whoiswho #aitrading #ai #aitradingteam#instat...           2 hours     25  \n",
       "3  #iot #cre#workplace #CDO #bigdata #technology#...           3 hours     49  \n",
       "4  #instamachinelearning #instabigdata#instamarke...           3 hours     30  "
      ]
     },
     "execution_count": 56,
     "metadata": {},
     "output_type": "execute_result"
    }
   ],
   "source": [
    "file_path = \"instagram_reach.csv\"\n",
    "df = pd.read_csv(file_path)\n",
    "df.drop(\"Unnamed: 0\", axis=1, inplace=True)\n",
    "df.head()"
   ]
  },
  {
   "attachments": {},
   "cell_type": "markdown",
   "metadata": {},
   "source": [
    "### EDA & FE"
   ]
  },
  {
   "attachments": {},
   "cell_type": "markdown",
   "metadata": {},
   "source": [
    "#### Primary analysis"
   ]
  },
  {
   "cell_type": "code",
   "execution_count": 4,
   "metadata": {},
   "outputs": [
    {
     "data": {
      "text/plain": [
       "(100, 7)"
      ]
     },
     "execution_count": 4,
     "metadata": {},
     "output_type": "execute_result"
    }
   ],
   "source": [
    "df.shape"
   ]
  },
  {
   "attachments": {},
   "cell_type": "markdown",
   "metadata": {},
   "source": [
    "The dataset is very small with only 100 rows and 7 features out of which 2 are target features."
   ]
  },
  {
   "cell_type": "code",
   "execution_count": 5,
   "metadata": {},
   "outputs": [
    {
     "name": "stdout",
     "output_type": "stream",
     "text": [
      "<class 'pandas.core.frame.DataFrame'>\n",
      "RangeIndex: 100 entries, 0 to 99\n",
      "Data columns (total 7 columns):\n",
      " #   Column             Non-Null Count  Dtype \n",
      "---  ------             --------------  ----- \n",
      " 0   S.No               100 non-null    int64 \n",
      " 1   USERNAME           100 non-null    object\n",
      " 2   Caption            94 non-null     object\n",
      " 3   Followers          100 non-null    int64 \n",
      " 4   Hashtags           100 non-null    object\n",
      " 5   Time since posted  100 non-null    object\n",
      " 6   Likes              100 non-null    int64 \n",
      "dtypes: int64(3), object(4)\n",
      "memory usage: 5.6+ KB\n"
     ]
    }
   ],
   "source": [
    "df.info()"
   ]
  },
  {
   "attachments": {},
   "cell_type": "markdown",
   "metadata": {},
   "source": [
    "**Observations:**\n",
    "\n",
    "1. S. No has no use for our predictive model and can be dropped.\n",
    "2. Username, caption, hastags are three columns containing text data.\n",
    "3. Time since posted column can be converted to numerical values easily.\n",
    "4. Time since posted and Likes columns are thr target features.\n",
    "5. Each users has specific number of followers and the number of likes directly depend on the number of followers. So we can drop the username column also."
   ]
  },
  {
   "attachments": {},
   "cell_type": "markdown",
   "metadata": {},
   "source": [
    "#### Analysis of the USERNAME column "
   ]
  },
  {
   "cell_type": "code",
   "execution_count": 57,
   "metadata": {},
   "outputs": [
    {
     "data": {
      "text/plain": [
       "95"
      ]
     },
     "execution_count": 57,
     "metadata": {},
     "output_type": "execute_result"
    }
   ],
   "source": [
    "len(df.USERNAME.unique())"
   ]
  },
  {
   "attachments": {},
   "cell_type": "markdown",
   "metadata": {},
   "source": [
    "Out of 100 rows in the dataset, there are 95 different usenames.\n",
    "\n",
    "So, One-hot encoding is not a considerable option here because it will lead to 95 new features.\n",
    "\n",
    "On the other hand, we have a numeric feature called \"followers\" which is directly associated with the usenames in the dataset.\n",
    "\n",
    "S. No is also an useless feature for our objective.\n",
    "\n",
    "So, it will be better to drop the \"USERNAME\" and \"S, No\" columns."
   ]
  },
  {
   "cell_type": "code",
   "execution_count": 58,
   "metadata": {},
   "outputs": [
    {
     "data": {
      "text/html": [
       "<div>\n",
       "<style scoped>\n",
       "    .dataframe tbody tr th:only-of-type {\n",
       "        vertical-align: middle;\n",
       "    }\n",
       "\n",
       "    .dataframe tbody tr th {\n",
       "        vertical-align: top;\n",
       "    }\n",
       "\n",
       "    .dataframe thead th {\n",
       "        text-align: right;\n",
       "    }\n",
       "</style>\n",
       "<table border=\"1\" class=\"dataframe\">\n",
       "  <thead>\n",
       "    <tr style=\"text-align: right;\">\n",
       "      <th></th>\n",
       "      <th>Caption</th>\n",
       "      <th>Followers</th>\n",
       "      <th>Hashtags</th>\n",
       "      <th>Time since posted</th>\n",
       "      <th>Likes</th>\n",
       "    </tr>\n",
       "  </thead>\n",
       "  <tbody>\n",
       "    <tr>\n",
       "      <th>0</th>\n",
       "      <td>Who are #DataScientist and what do they do? &gt;&gt;...</td>\n",
       "      <td>1600</td>\n",
       "      <td>#MachineLearning #AI #DataAnalytics #DataScien...</td>\n",
       "      <td>11 hours</td>\n",
       "      <td>139</td>\n",
       "    </tr>\n",
       "    <tr>\n",
       "      <th>1</th>\n",
       "      <td>We all know where it’s going. We just have to ...</td>\n",
       "      <td>880</td>\n",
       "      <td>#deck .#mac #macintosh#sayhello #apple #steve...</td>\n",
       "      <td>2 hours</td>\n",
       "      <td>23</td>\n",
       "    </tr>\n",
       "    <tr>\n",
       "      <th>2</th>\n",
       "      <td>Alexander Barinov: 4 years as CFO in multinati...</td>\n",
       "      <td>255</td>\n",
       "      <td>#whoiswho #aitrading #ai #aitradingteam#instat...</td>\n",
       "      <td>2 hours</td>\n",
       "      <td>25</td>\n",
       "    </tr>\n",
       "  </tbody>\n",
       "</table>\n",
       "</div>"
      ],
      "text/plain": [
       "                                             Caption  Followers   \n",
       "0  Who are #DataScientist and what do they do? >>...       1600  \\\n",
       "1  We all know where it’s going. We just have to ...        880   \n",
       "2  Alexander Barinov: 4 years as CFO in multinati...        255   \n",
       "\n",
       "                                            Hashtags Time since posted  Likes  \n",
       "0  #MachineLearning #AI #DataAnalytics #DataScien...          11 hours    139  \n",
       "1   #deck .#mac #macintosh#sayhello #apple #steve...           2 hours     23  \n",
       "2  #whoiswho #aitrading #ai #aitradingteam#instat...           2 hours     25  "
      ]
     },
     "execution_count": 58,
     "metadata": {},
     "output_type": "execute_result"
    }
   ],
   "source": [
    "# Drop USERNAME and S.No column\n",
    "\n",
    "df.drop(['S.No', 'USERNAME'], axis=1, inplace=True)\n",
    "\n",
    "df.head(3)"
   ]
  },
  {
   "attachments": {},
   "cell_type": "markdown",
   "metadata": {},
   "source": [
    "#### Analysis of the Time since posted column"
   ]
  },
  {
   "cell_type": "code",
   "execution_count": 59,
   "metadata": {},
   "outputs": [
    {
     "data": {
      "text/plain": [
       "array(['11 hours', '2 hours', '3 hours', '4 hours', '7 hours', '8 hours',\n",
       "       '9 hours', '5 hours', '20 hours', '14 hours', '24 hours'],\n",
       "      dtype=object)"
      ]
     },
     "execution_count": 59,
     "metadata": {},
     "output_type": "execute_result"
    }
   ],
   "source": [
    "df['Time since posted'].unique()"
   ]
  },
  {
   "cell_type": "code",
   "execution_count": 60,
   "metadata": {},
   "outputs": [
    {
     "data": {
      "text/plain": [
       "0"
      ]
     },
     "execution_count": 60,
     "metadata": {},
     "output_type": "execute_result"
    }
   ],
   "source": [
    "df['Time since posted'].isna().sum()"
   ]
  },
  {
   "cell_type": "code",
   "execution_count": 61,
   "metadata": {},
   "outputs": [
    {
     "data": {
      "text/plain": [
       "dtype('O')"
      ]
     },
     "execution_count": 61,
     "metadata": {},
     "output_type": "execute_result"
    }
   ],
   "source": [
    "df['Time since posted'].dtype"
   ]
  },
  {
   "attachments": {},
   "cell_type": "markdown",
   "metadata": {},
   "source": [
    "- 'Time since posted' is one of our target features.\n",
    "- There are no missing values.\n",
    "- Data type is 'Object'\n",
    "- We need to convert the data type to integer."
   ]
  },
  {
   "cell_type": "code",
   "execution_count": 62,
   "metadata": {},
   "outputs": [
    {
     "data": {
      "text/plain": [
       "dtype('int64')"
      ]
     },
     "execution_count": 62,
     "metadata": {},
     "output_type": "execute_result"
    }
   ],
   "source": [
    "# Converting 'Time since posted' column to integer type\n",
    "\n",
    "df['Time since posted'] = df['Time since posted'].apply(lambda x: int(x.split()[0]))\n",
    "\n",
    "df['Time since posted'].dtype"
   ]
  },
  {
   "cell_type": "code",
   "execution_count": 63,
   "metadata": {},
   "outputs": [
    {
     "data": {
      "text/plain": [
       "array([11,  2,  3,  4,  7,  8,  9,  5, 20, 14, 24])"
      ]
     },
     "execution_count": 63,
     "metadata": {},
     "output_type": "execute_result"
    }
   ],
   "source": [
    "df['Time since posted'].unique()"
   ]
  },
  {
   "attachments": {},
   "cell_type": "markdown",
   "metadata": {},
   "source": [
    "**Successfully converted to integer and removed the hours tag.**"
   ]
  },
  {
   "attachments": {},
   "cell_type": "markdown",
   "metadata": {},
   "source": [
    "#### Analysis of the Caption column"
   ]
  },
  {
   "cell_type": "code",
   "execution_count": 68,
   "metadata": {},
   "outputs": [
    {
     "name": "stdout",
     "output_type": "stream",
     "text": [
      "[2, 3, 3, 3, 3, 3, 3, 4, 5, 7, 12, 19, 21, 21, 21, 26, 26, 28, 28, 29, 31, 31, 32, 38, 38, 41, 42, 44, 45, 51, 55, 56, 56, 57, 63, 65, 70, 70, 72, 73, 74, 75, 79, 90, 93, 94, 95, 104, 110, 112, 113, 114, 116, 118, 119, 124, 125, 128, 131, 137, 144, 145, 149, 153, 155, 159, 166, 172, 175, 177, 180, 195, 196, 204, 204, 214, 217, 218, 222, 226, 233, 248, 255, 259, 260, 261, 270, 273, 322, 325, 348, 353, 369, 373, 390, 422, 454, 457, 459, 704]\n"
     ]
    }
   ],
   "source": [
    "# list of length of each caption text\n",
    "print(sorted([len(str(cap)) for cap in df['Caption'].values]))"
   ]
  },
  {
   "cell_type": "code",
   "execution_count": 69,
   "metadata": {},
   "outputs": [
    {
     "data": {
      "text/plain": [
       "(88, 5)"
      ]
     },
     "execution_count": 69,
     "metadata": {},
     "output_type": "execute_result"
    }
   ],
   "source": [
    "df = df[df['Caption'].str.len() >= 20]\n",
    "df.shape"
   ]
  },
  {
   "cell_type": "code",
   "execution_count": 70,
   "metadata": {},
   "outputs": [
    {
     "data": {
      "text/plain": [
       "'Who are #DataScientist and what do they do? >> @MikeQuindazzi >> #MachineLearning #AI #DataAnalytics #DataScienc #DataLake >> https://buff.ly/2kYmF0s'"
      ]
     },
     "execution_count": 70,
     "metadata": {},
     "output_type": "execute_result"
    }
   ],
   "source": [
    "df['Caption'][0]"
   ]
  },
  {
   "attachments": {},
   "cell_type": "markdown",
   "metadata": {},
   "source": [
    "As we can see that caption text contains various symbols, links, emojis etc.\n",
    "We need to remove these and create a clean caption before tokenizing the text."
   ]
  },
  {
   "cell_type": "code",
   "execution_count": 71,
   "metadata": {},
   "outputs": [],
   "source": [
    "# Helper function to clean caption text\n",
    "def clean_caption(text):\n",
    "    if isinstance(text, str): # to avoid TypeError\n",
    "        # Remove URLs\n",
    "        text = re.sub(r'http\\S+|www\\S+|https\\S+', '', text)\n",
    "        \n",
    "        # Remove emojis and symbols\n",
    "        text = re.sub(r'[^\\w\\s]', '', text)\n",
    "        \n",
    "        # Remove extra whitespaces\n",
    "        text = re.sub(r'\\s+', ' ', text).strip()\n",
    "    \n",
    "    return text\n",
    "\n",
    "# tokenizer function\n",
    "def tokenizer(text):\n",
    "    text = str(text)\n",
    "\n",
    "    # Tokenize the text\n",
    "    tokens = word_tokenize(text)\n",
    "\n",
    "    return tokens"
   ]
  },
  {
   "cell_type": "code",
   "execution_count": 72,
   "metadata": {},
   "outputs": [
    {
     "data": {
      "text/plain": [
       "0     Who are DataScientist and what do they do Mike...\n",
       "1     We all know where its going We just have to wo...\n",
       "2     Alexander Barinov 4 years as CFO in multinatio...\n",
       "4     Ever missed a call while your phone was chargi...\n",
       "5     Cyber attacks are more frequent every day and ...\n",
       "                            ...                        \n",
       "95    328 S Wetherly Drive Beverly Hills CA 90212 Th...\n",
       "96    Credit tristankappel To find more dvlp follow ...\n",
       "97    We are coming up with the Best 21 Books that w...\n",
       "98    Were only paid to move dirt once Its not just ...\n",
       "99                       Obtén tu tienda en línea ahora\n",
       "Name: Caption, Length: 88, dtype: object"
      ]
     },
     "execution_count": 72,
     "metadata": {},
     "output_type": "execute_result"
    }
   ],
   "source": [
    "# cleaning texts in caption column\n",
    "df['Caption'] = df['Caption'].apply(clean_caption)\n",
    "\n",
    "df['Caption']"
   ]
  },
  {
   "cell_type": "code",
   "execution_count": 73,
   "metadata": {},
   "outputs": [
    {
     "data": {
      "text/plain": [
       "0     [Who, are, DataScientist, and, what, do, they,...\n",
       "1     [We, all, know, where, its, going, We, just, h...\n",
       "2     [Alexander, Barinov, 4, years, as, CFO, in, mu...\n",
       "4     [Ever, missed, a, call, while, your, phone, wa...\n",
       "5     [Cyber, attacks, are, more, frequent, every, d...\n",
       "                            ...                        \n",
       "95    [328, S, Wetherly, Drive, Beverly, Hills, CA, ...\n",
       "96    [Credit, tristankappel, To, find, more, dvlp, ...\n",
       "97    [We, are, coming, up, with, the, Best, 21, Boo...\n",
       "98    [Were, only, paid, to, move, dirt, once, Its, ...\n",
       "99                [Obtén, tu, tienda, en, línea, ahora]\n",
       "Name: Caption, Length: 88, dtype: object"
      ]
     },
     "execution_count": 73,
     "metadata": {},
     "output_type": "execute_result"
    }
   ],
   "source": [
    "# Tokenizing the text with nltk\n",
    "df['Caption'] = df['Caption'].apply(tokenizer)\n",
    "\n",
    "df['Caption']"
   ]
  },
  {
   "cell_type": "code",
   "execution_count": 74,
   "metadata": {},
   "outputs": [],
   "source": [
    "# Download word2vec pre-trained vectors published by Google\n",
    "# Download link: https://drive.google.com/file/d/0B7XkCwpI5KDYNlNUTTlSS21pQmM/edit?resourcekey=0-wjGZdNAUop6WykTtMip30g\n",
    "\n",
    "# Load pre-trained Word2Vec model\n",
    "path = 'GoogleNews-vectors-negative300.bin'\n",
    "word2vec_model = gensim.models.KeyedVectors.load_word2vec_format(path, binary=True)\n",
    "\n",
    "# Function to perform word embedding\n",
    "def embed_caption(tokens):\n",
    "    embeddings = [word2vec_model[word.lower()] for word in tokens if word.lower() in word2vec_model]\n",
    "    return embeddings\n"
   ]
  },
  {
   "cell_type": "code",
   "execution_count": 75,
   "metadata": {},
   "outputs": [],
   "source": [
    "# Apply word embedding to the 'caption' column\n",
    "df['caption_embedding'] = df['Caption'].apply(embed_caption)"
   ]
  },
  {
   "cell_type": "code",
   "execution_count": 76,
   "metadata": {},
   "outputs": [
    {
     "data": {
      "text/html": [
       "<div>\n",
       "<style scoped>\n",
       "    .dataframe tbody tr th:only-of-type {\n",
       "        vertical-align: middle;\n",
       "    }\n",
       "\n",
       "    .dataframe tbody tr th {\n",
       "        vertical-align: top;\n",
       "    }\n",
       "\n",
       "    .dataframe thead th {\n",
       "        text-align: right;\n",
       "    }\n",
       "</style>\n",
       "<table border=\"1\" class=\"dataframe\">\n",
       "  <thead>\n",
       "    <tr style=\"text-align: right;\">\n",
       "      <th></th>\n",
       "      <th>Caption</th>\n",
       "      <th>caption_embedding</th>\n",
       "    </tr>\n",
       "  </thead>\n",
       "  <tbody>\n",
       "    <tr>\n",
       "      <th>0</th>\n",
       "      <td>[Who, are, DataScientist, and, what, do, they,...</td>\n",
       "      <td>[[0.07910156, 0.09667969, -0.010864258, 0.0256...</td>\n",
       "    </tr>\n",
       "    <tr>\n",
       "      <th>1</th>\n",
       "      <td>[We, all, know, where, its, going, We, just, h...</td>\n",
       "      <td>[[-0.017944336, 0.1171875, 0.052734375, 0.2558...</td>\n",
       "    </tr>\n",
       "    <tr>\n",
       "      <th>2</th>\n",
       "      <td>[Alexander, Barinov, 4, years, as, CFO, in, mu...</td>\n",
       "      <td>[[-0.06298828, 0.0069885254, 0.039794922, 0.18...</td>\n",
       "    </tr>\n",
       "    <tr>\n",
       "      <th>4</th>\n",
       "      <td>[Ever, missed, a, call, while, your, phone, wa...</td>\n",
       "      <td>[[-0.22558594, -0.032470703, 0.040283203, 0.12...</td>\n",
       "    </tr>\n",
       "    <tr>\n",
       "      <th>5</th>\n",
       "      <td>[Cyber, attacks, are, more, frequent, every, d...</td>\n",
       "      <td>[[-0.016723633, 0.14453125, 0.046875, -0.01843...</td>\n",
       "    </tr>\n",
       "    <tr>\n",
       "      <th>...</th>\n",
       "      <td>...</td>\n",
       "      <td>...</td>\n",
       "    </tr>\n",
       "    <tr>\n",
       "      <th>95</th>\n",
       "      <td>[328, S, Wetherly, Drive, Beverly, Hills, CA, ...</td>\n",
       "      <td>[[-0.29101562, 0.17871094, 0.050048828, 0.0981...</td>\n",
       "    </tr>\n",
       "    <tr>\n",
       "      <th>96</th>\n",
       "      <td>[Credit, tristankappel, To, find, more, dvlp, ...</td>\n",
       "      <td>[[-0.015014648, 0.19335938, 0.014831543, 0.073...</td>\n",
       "    </tr>\n",
       "    <tr>\n",
       "      <th>97</th>\n",
       "      <td>[We, are, coming, up, with, the, Best, 21, Boo...</td>\n",
       "      <td>[[-0.017944336, 0.1171875, 0.052734375, 0.2558...</td>\n",
       "    </tr>\n",
       "    <tr>\n",
       "      <th>98</th>\n",
       "      <td>[Were, only, paid, to, move, dirt, once, Its, ...</td>\n",
       "      <td>[[-0.10058594, -0.024658203, 0.092285156, -0.0...</td>\n",
       "    </tr>\n",
       "    <tr>\n",
       "      <th>99</th>\n",
       "      <td>[Obtén, tu, tienda, en, línea, ahora]</td>\n",
       "      <td>[[-0.05883789, 0.083496094, 0.375, 0.39257812,...</td>\n",
       "    </tr>\n",
       "  </tbody>\n",
       "</table>\n",
       "<p>88 rows × 2 columns</p>\n",
       "</div>"
      ],
      "text/plain": [
       "                                              Caption   \n",
       "0   [Who, are, DataScientist, and, what, do, they,...  \\\n",
       "1   [We, all, know, where, its, going, We, just, h...   \n",
       "2   [Alexander, Barinov, 4, years, as, CFO, in, mu...   \n",
       "4   [Ever, missed, a, call, while, your, phone, wa...   \n",
       "5   [Cyber, attacks, are, more, frequent, every, d...   \n",
       "..                                                ...   \n",
       "95  [328, S, Wetherly, Drive, Beverly, Hills, CA, ...   \n",
       "96  [Credit, tristankappel, To, find, more, dvlp, ...   \n",
       "97  [We, are, coming, up, with, the, Best, 21, Boo...   \n",
       "98  [Were, only, paid, to, move, dirt, once, Its, ...   \n",
       "99              [Obtén, tu, tienda, en, línea, ahora]   \n",
       "\n",
       "                                    caption_embedding  \n",
       "0   [[0.07910156, 0.09667969, -0.010864258, 0.0256...  \n",
       "1   [[-0.017944336, 0.1171875, 0.052734375, 0.2558...  \n",
       "2   [[-0.06298828, 0.0069885254, 0.039794922, 0.18...  \n",
       "4   [[-0.22558594, -0.032470703, 0.040283203, 0.12...  \n",
       "5   [[-0.016723633, 0.14453125, 0.046875, -0.01843...  \n",
       "..                                                ...  \n",
       "95  [[-0.29101562, 0.17871094, 0.050048828, 0.0981...  \n",
       "96  [[-0.015014648, 0.19335938, 0.014831543, 0.073...  \n",
       "97  [[-0.017944336, 0.1171875, 0.052734375, 0.2558...  \n",
       "98  [[-0.10058594, -0.024658203, 0.092285156, -0.0...  \n",
       "99  [[-0.05883789, 0.083496094, 0.375, 0.39257812,...  \n",
       "\n",
       "[88 rows x 2 columns]"
      ]
     },
     "execution_count": 76,
     "metadata": {},
     "output_type": "execute_result"
    }
   ],
   "source": [
    "df[['Caption','caption_embedding']]"
   ]
  },
  {
   "cell_type": "code",
   "execution_count": 77,
   "metadata": {},
   "outputs": [
    {
     "data": {
      "text/html": [
       "<div>\n",
       "<style scoped>\n",
       "    .dataframe tbody tr th:only-of-type {\n",
       "        vertical-align: middle;\n",
       "    }\n",
       "\n",
       "    .dataframe tbody tr th {\n",
       "        vertical-align: top;\n",
       "    }\n",
       "\n",
       "    .dataframe thead th {\n",
       "        text-align: right;\n",
       "    }\n",
       "</style>\n",
       "<table border=\"1\" class=\"dataframe\">\n",
       "  <thead>\n",
       "    <tr style=\"text-align: right;\">\n",
       "      <th></th>\n",
       "      <th>Caption</th>\n",
       "      <th>caption_embedding</th>\n",
       "      <th>caption_embedding_flat</th>\n",
       "    </tr>\n",
       "  </thead>\n",
       "  <tbody>\n",
       "    <tr>\n",
       "      <th>0</th>\n",
       "      <td>[Who, are, DataScientist, and, what, do, they,...</td>\n",
       "      <td>[[0.07910156, 0.09667969, -0.010864258, 0.0256...</td>\n",
       "      <td>[0.07910156, 0.09667969, -0.010864258, 0.02563...</td>\n",
       "    </tr>\n",
       "    <tr>\n",
       "      <th>1</th>\n",
       "      <td>[We, all, know, where, its, going, We, just, h...</td>\n",
       "      <td>[[-0.017944336, 0.1171875, 0.052734375, 0.2558...</td>\n",
       "      <td>[-0.017944336, 0.1171875, 0.052734375, 0.25585...</td>\n",
       "    </tr>\n",
       "    <tr>\n",
       "      <th>2</th>\n",
       "      <td>[Alexander, Barinov, 4, years, as, CFO, in, mu...</td>\n",
       "      <td>[[-0.06298828, 0.0069885254, 0.039794922, 0.18...</td>\n",
       "      <td>[-0.06298828, 0.0069885254, 0.039794922, 0.183...</td>\n",
       "    </tr>\n",
       "    <tr>\n",
       "      <th>4</th>\n",
       "      <td>[Ever, missed, a, call, while, your, phone, wa...</td>\n",
       "      <td>[[-0.22558594, -0.032470703, 0.040283203, 0.12...</td>\n",
       "      <td>[-0.22558594, -0.032470703, 0.040283203, 0.126...</td>\n",
       "    </tr>\n",
       "    <tr>\n",
       "      <th>5</th>\n",
       "      <td>[Cyber, attacks, are, more, frequent, every, d...</td>\n",
       "      <td>[[-0.016723633, 0.14453125, 0.046875, -0.01843...</td>\n",
       "      <td>[-0.016723633, 0.14453125, 0.046875, -0.018432...</td>\n",
       "    </tr>\n",
       "    <tr>\n",
       "      <th>...</th>\n",
       "      <td>...</td>\n",
       "      <td>...</td>\n",
       "      <td>...</td>\n",
       "    </tr>\n",
       "    <tr>\n",
       "      <th>95</th>\n",
       "      <td>[328, S, Wetherly, Drive, Beverly, Hills, CA, ...</td>\n",
       "      <td>[[-0.29101562, 0.17871094, 0.050048828, 0.0981...</td>\n",
       "      <td>[-0.29101562, 0.17871094, 0.050048828, 0.09814...</td>\n",
       "    </tr>\n",
       "    <tr>\n",
       "      <th>96</th>\n",
       "      <td>[Credit, tristankappel, To, find, more, dvlp, ...</td>\n",
       "      <td>[[-0.015014648, 0.19335938, 0.014831543, 0.073...</td>\n",
       "      <td>[-0.015014648, 0.19335938, 0.014831543, 0.0737...</td>\n",
       "    </tr>\n",
       "    <tr>\n",
       "      <th>97</th>\n",
       "      <td>[We, are, coming, up, with, the, Best, 21, Boo...</td>\n",
       "      <td>[[-0.017944336, 0.1171875, 0.052734375, 0.2558...</td>\n",
       "      <td>[-0.017944336, 0.1171875, 0.052734375, 0.25585...</td>\n",
       "    </tr>\n",
       "    <tr>\n",
       "      <th>98</th>\n",
       "      <td>[Were, only, paid, to, move, dirt, once, Its, ...</td>\n",
       "      <td>[[-0.10058594, -0.024658203, 0.092285156, -0.0...</td>\n",
       "      <td>[-0.10058594, -0.024658203, 0.092285156, -0.04...</td>\n",
       "    </tr>\n",
       "    <tr>\n",
       "      <th>99</th>\n",
       "      <td>[Obtén, tu, tienda, en, línea, ahora]</td>\n",
       "      <td>[[-0.05883789, 0.083496094, 0.375, 0.39257812,...</td>\n",
       "      <td>[-0.05883789, 0.083496094, 0.375, 0.39257812, ...</td>\n",
       "    </tr>\n",
       "  </tbody>\n",
       "</table>\n",
       "<p>88 rows × 3 columns</p>\n",
       "</div>"
      ],
      "text/plain": [
       "                                              Caption   \n",
       "0   [Who, are, DataScientist, and, what, do, they,...  \\\n",
       "1   [We, all, know, where, its, going, We, just, h...   \n",
       "2   [Alexander, Barinov, 4, years, as, CFO, in, mu...   \n",
       "4   [Ever, missed, a, call, while, your, phone, wa...   \n",
       "5   [Cyber, attacks, are, more, frequent, every, d...   \n",
       "..                                                ...   \n",
       "95  [328, S, Wetherly, Drive, Beverly, Hills, CA, ...   \n",
       "96  [Credit, tristankappel, To, find, more, dvlp, ...   \n",
       "97  [We, are, coming, up, with, the, Best, 21, Boo...   \n",
       "98  [Were, only, paid, to, move, dirt, once, Its, ...   \n",
       "99              [Obtén, tu, tienda, en, línea, ahora]   \n",
       "\n",
       "                                    caption_embedding   \n",
       "0   [[0.07910156, 0.09667969, -0.010864258, 0.0256...  \\\n",
       "1   [[-0.017944336, 0.1171875, 0.052734375, 0.2558...   \n",
       "2   [[-0.06298828, 0.0069885254, 0.039794922, 0.18...   \n",
       "4   [[-0.22558594, -0.032470703, 0.040283203, 0.12...   \n",
       "5   [[-0.016723633, 0.14453125, 0.046875, -0.01843...   \n",
       "..                                                ...   \n",
       "95  [[-0.29101562, 0.17871094, 0.050048828, 0.0981...   \n",
       "96  [[-0.015014648, 0.19335938, 0.014831543, 0.073...   \n",
       "97  [[-0.017944336, 0.1171875, 0.052734375, 0.2558...   \n",
       "98  [[-0.10058594, -0.024658203, 0.092285156, -0.0...   \n",
       "99  [[-0.05883789, 0.083496094, 0.375, 0.39257812,...   \n",
       "\n",
       "                               caption_embedding_flat  \n",
       "0   [0.07910156, 0.09667969, -0.010864258, 0.02563...  \n",
       "1   [-0.017944336, 0.1171875, 0.052734375, 0.25585...  \n",
       "2   [-0.06298828, 0.0069885254, 0.039794922, 0.183...  \n",
       "4   [-0.22558594, -0.032470703, 0.040283203, 0.126...  \n",
       "5   [-0.016723633, 0.14453125, 0.046875, -0.018432...  \n",
       "..                                                ...  \n",
       "95  [-0.29101562, 0.17871094, 0.050048828, 0.09814...  \n",
       "96  [-0.015014648, 0.19335938, 0.014831543, 0.0737...  \n",
       "97  [-0.017944336, 0.1171875, 0.052734375, 0.25585...  \n",
       "98  [-0.10058594, -0.024658203, 0.092285156, -0.04...  \n",
       "99  [-0.05883789, 0.083496094, 0.375, 0.39257812, ...  \n",
       "\n",
       "[88 rows x 3 columns]"
      ]
     },
     "execution_count": 77,
     "metadata": {},
     "output_type": "execute_result"
    }
   ],
   "source": [
    "# Flatten the caption_embedding column\n",
    "df['caption_embedding_flat'] = df['caption_embedding'].apply(lambda x: np.array(x).flatten())\n",
    "\n",
    "df[['Caption','caption_embedding', 'caption_embedding_flat']]"
   ]
  },
  {
   "attachments": {},
   "cell_type": "markdown",
   "metadata": {},
   "source": [
    "#### Analysis of the Hashtags column"
   ]
  },
  {
   "cell_type": "code",
   "execution_count": 87,
   "metadata": {},
   "outputs": [
    {
     "name": "stdout",
     "output_type": "stream",
     "text": [
      "[21, 23, 26, 27, 44, 48, 57, 59, 61, 65, 69, 78, 80, 93, 94, 97, 98, 99, 104, 109, 112, 114, 116, 118, 120, 123, 123, 128, 135, 148, 149, 151, 182, 187, 188, 191, 191, 193, 194, 196, 198, 201, 202, 204, 204, 214, 215, 222, 228, 229, 233, 249, 251, 254, 255, 260, 261, 266, 266, 271, 275, 278, 279, 281, 286, 294, 297, 301, 301, 301, 306, 306, 307, 310, 311, 318, 328, 329, 331, 332, 334, 340, 348, 351, 365, 377, 386, 388]\n"
     ]
    }
   ],
   "source": [
    "# list of length of each hashtags text\n",
    "print(sorted([len(str(cap)) for cap in df['Hashtags'].values]))"
   ]
  },
  {
   "cell_type": "code",
   "execution_count": 78,
   "metadata": {},
   "outputs": [],
   "source": [
    "# Load spaCy's English language model\n",
    "nlp = spacy.load('en_core_web_sm')\n",
    "\n",
    "def embed_hashtags(hashtags):\n",
    "    doc = nlp(hashtags)  # Tokenize and process the hashtag text\n",
    "    embeddings = [word2vec_model[word.text.lower()] for word in doc if word.text.lower() in word2vec_model]\n",
    "    return embeddings"
   ]
  },
  {
   "cell_type": "code",
   "execution_count": 79,
   "metadata": {},
   "outputs": [],
   "source": [
    "df['hashtags_embedding'] = df['Hashtags'].apply(embed_hashtags)"
   ]
  },
  {
   "cell_type": "code",
   "execution_count": 80,
   "metadata": {},
   "outputs": [
    {
     "data": {
      "text/html": [
       "<div>\n",
       "<style scoped>\n",
       "    .dataframe tbody tr th:only-of-type {\n",
       "        vertical-align: middle;\n",
       "    }\n",
       "\n",
       "    .dataframe tbody tr th {\n",
       "        vertical-align: top;\n",
       "    }\n",
       "\n",
       "    .dataframe thead th {\n",
       "        text-align: right;\n",
       "    }\n",
       "</style>\n",
       "<table border=\"1\" class=\"dataframe\">\n",
       "  <thead>\n",
       "    <tr style=\"text-align: right;\">\n",
       "      <th></th>\n",
       "      <th>Hashtags</th>\n",
       "      <th>hashtags_embedding</th>\n",
       "    </tr>\n",
       "  </thead>\n",
       "  <tbody>\n",
       "    <tr>\n",
       "      <th>0</th>\n",
       "      <td>#MachineLearning #AI #DataAnalytics #DataScien...</td>\n",
       "      <td>[[-0.033447266, -0.21972656, 0.01940918, 0.008...</td>\n",
       "    </tr>\n",
       "    <tr>\n",
       "      <th>1</th>\n",
       "      <td>#deck .#mac #macintosh#sayhello #apple #steve...</td>\n",
       "      <td>[[-0.033447266, -0.21972656, 0.01940918, 0.008...</td>\n",
       "    </tr>\n",
       "    <tr>\n",
       "      <th>2</th>\n",
       "      <td>#whoiswho #aitrading #ai #aitradingteam#instat...</td>\n",
       "      <td>[[-0.033447266, -0.21972656, 0.01940918, 0.008...</td>\n",
       "    </tr>\n",
       "    <tr>\n",
       "      <th>4</th>\n",
       "      <td>#instamachinelearning #instabigdata#instamarke...</td>\n",
       "      <td>[[-0.033447266, -0.21972656, 0.01940918, 0.008...</td>\n",
       "    </tr>\n",
       "    <tr>\n",
       "      <th>5</th>\n",
       "      <td>#edtech #learning#educationtechnology #tech #l...</td>\n",
       "      <td>[[-0.033447266, -0.21972656, 0.01940918, 0.008...</td>\n",
       "    </tr>\n",
       "    <tr>\n",
       "      <th>...</th>\n",
       "      <td>...</td>\n",
       "      <td>...</td>\n",
       "    </tr>\n",
       "    <tr>\n",
       "      <th>95</th>\n",
       "      <td>#beverlyhills #realestate#losangelesrealestate...</td>\n",
       "      <td>[[-0.033447266, -0.21972656, 0.01940918, 0.008...</td>\n",
       "    </tr>\n",
       "    <tr>\n",
       "      <th>96</th>\n",
       "      <td>#workspace #work #developer#development #devel...</td>\n",
       "      <td>[[-0.033447266, -0.21972656, 0.01940918, 0.008...</td>\n",
       "    </tr>\n",
       "    <tr>\n",
       "      <th>97</th>\n",
       "      <td>#books #book #motivation #inspiration #life#bo...</td>\n",
       "      <td>[[-0.033447266, -0.21972656, 0.01940918, 0.008...</td>\n",
       "    </tr>\n",
       "    <tr>\n",
       "      <th>98</th>\n",
       "      <td>#heavyequipment #underconstruction#dozer #real...</td>\n",
       "      <td>[[-0.033447266, -0.21972656, 0.01940918, 0.008...</td>\n",
       "    </tr>\n",
       "    <tr>\n",
       "      <th>99</th>\n",
       "      <td>#marketing #programming#development #desarroll...</td>\n",
       "      <td>[[-0.033447266, -0.21972656, 0.01940918, 0.008...</td>\n",
       "    </tr>\n",
       "  </tbody>\n",
       "</table>\n",
       "<p>88 rows × 2 columns</p>\n",
       "</div>"
      ],
      "text/plain": [
       "                                             Hashtags   \n",
       "0   #MachineLearning #AI #DataAnalytics #DataScien...  \\\n",
       "1    #deck .#mac #macintosh#sayhello #apple #steve...   \n",
       "2   #whoiswho #aitrading #ai #aitradingteam#instat...   \n",
       "4   #instamachinelearning #instabigdata#instamarke...   \n",
       "5   #edtech #learning#educationtechnology #tech #l...   \n",
       "..                                                ...   \n",
       "95  #beverlyhills #realestate#losangelesrealestate...   \n",
       "96  #workspace #work #developer#development #devel...   \n",
       "97  #books #book #motivation #inspiration #life#bo...   \n",
       "98  #heavyequipment #underconstruction#dozer #real...   \n",
       "99  #marketing #programming#development #desarroll...   \n",
       "\n",
       "                                   hashtags_embedding  \n",
       "0   [[-0.033447266, -0.21972656, 0.01940918, 0.008...  \n",
       "1   [[-0.033447266, -0.21972656, 0.01940918, 0.008...  \n",
       "2   [[-0.033447266, -0.21972656, 0.01940918, 0.008...  \n",
       "4   [[-0.033447266, -0.21972656, 0.01940918, 0.008...  \n",
       "5   [[-0.033447266, -0.21972656, 0.01940918, 0.008...  \n",
       "..                                                ...  \n",
       "95  [[-0.033447266, -0.21972656, 0.01940918, 0.008...  \n",
       "96  [[-0.033447266, -0.21972656, 0.01940918, 0.008...  \n",
       "97  [[-0.033447266, -0.21972656, 0.01940918, 0.008...  \n",
       "98  [[-0.033447266, -0.21972656, 0.01940918, 0.008...  \n",
       "99  [[-0.033447266, -0.21972656, 0.01940918, 0.008...  \n",
       "\n",
       "[88 rows x 2 columns]"
      ]
     },
     "execution_count": 80,
     "metadata": {},
     "output_type": "execute_result"
    }
   ],
   "source": [
    "df[['Hashtags', 'hashtags_embedding']]"
   ]
  },
  {
   "cell_type": "code",
   "execution_count": 81,
   "metadata": {},
   "outputs": [
    {
     "data": {
      "text/html": [
       "<div>\n",
       "<style scoped>\n",
       "    .dataframe tbody tr th:only-of-type {\n",
       "        vertical-align: middle;\n",
       "    }\n",
       "\n",
       "    .dataframe tbody tr th {\n",
       "        vertical-align: top;\n",
       "    }\n",
       "\n",
       "    .dataframe thead th {\n",
       "        text-align: right;\n",
       "    }\n",
       "</style>\n",
       "<table border=\"1\" class=\"dataframe\">\n",
       "  <thead>\n",
       "    <tr style=\"text-align: right;\">\n",
       "      <th></th>\n",
       "      <th>Hashtags</th>\n",
       "      <th>hashtags_embedding</th>\n",
       "      <th>hashtags_embedding_flat</th>\n",
       "    </tr>\n",
       "  </thead>\n",
       "  <tbody>\n",
       "    <tr>\n",
       "      <th>0</th>\n",
       "      <td>#MachineLearning #AI #DataAnalytics #DataScien...</td>\n",
       "      <td>[[-0.033447266, -0.21972656, 0.01940918, 0.008...</td>\n",
       "      <td>[-0.033447266, -0.21972656, 0.01940918, 0.0081...</td>\n",
       "    </tr>\n",
       "    <tr>\n",
       "      <th>1</th>\n",
       "      <td>#deck .#mac #macintosh#sayhello #apple #steve...</td>\n",
       "      <td>[[-0.033447266, -0.21972656, 0.01940918, 0.008...</td>\n",
       "      <td>[-0.033447266, -0.21972656, 0.01940918, 0.0081...</td>\n",
       "    </tr>\n",
       "    <tr>\n",
       "      <th>2</th>\n",
       "      <td>#whoiswho #aitrading #ai #aitradingteam#instat...</td>\n",
       "      <td>[[-0.033447266, -0.21972656, 0.01940918, 0.008...</td>\n",
       "      <td>[-0.033447266, -0.21972656, 0.01940918, 0.0081...</td>\n",
       "    </tr>\n",
       "    <tr>\n",
       "      <th>4</th>\n",
       "      <td>#instamachinelearning #instabigdata#instamarke...</td>\n",
       "      <td>[[-0.033447266, -0.21972656, 0.01940918, 0.008...</td>\n",
       "      <td>[-0.033447266, -0.21972656, 0.01940918, 0.0081...</td>\n",
       "    </tr>\n",
       "    <tr>\n",
       "      <th>5</th>\n",
       "      <td>#edtech #learning#educationtechnology #tech #l...</td>\n",
       "      <td>[[-0.033447266, -0.21972656, 0.01940918, 0.008...</td>\n",
       "      <td>[-0.033447266, -0.21972656, 0.01940918, 0.0081...</td>\n",
       "    </tr>\n",
       "    <tr>\n",
       "      <th>...</th>\n",
       "      <td>...</td>\n",
       "      <td>...</td>\n",
       "      <td>...</td>\n",
       "    </tr>\n",
       "    <tr>\n",
       "      <th>95</th>\n",
       "      <td>#beverlyhills #realestate#losangelesrealestate...</td>\n",
       "      <td>[[-0.033447266, -0.21972656, 0.01940918, 0.008...</td>\n",
       "      <td>[-0.033447266, -0.21972656, 0.01940918, 0.0081...</td>\n",
       "    </tr>\n",
       "    <tr>\n",
       "      <th>96</th>\n",
       "      <td>#workspace #work #developer#development #devel...</td>\n",
       "      <td>[[-0.033447266, -0.21972656, 0.01940918, 0.008...</td>\n",
       "      <td>[-0.033447266, -0.21972656, 0.01940918, 0.0081...</td>\n",
       "    </tr>\n",
       "    <tr>\n",
       "      <th>97</th>\n",
       "      <td>#books #book #motivation #inspiration #life#bo...</td>\n",
       "      <td>[[-0.033447266, -0.21972656, 0.01940918, 0.008...</td>\n",
       "      <td>[-0.033447266, -0.21972656, 0.01940918, 0.0081...</td>\n",
       "    </tr>\n",
       "    <tr>\n",
       "      <th>98</th>\n",
       "      <td>#heavyequipment #underconstruction#dozer #real...</td>\n",
       "      <td>[[-0.033447266, -0.21972656, 0.01940918, 0.008...</td>\n",
       "      <td>[-0.033447266, -0.21972656, 0.01940918, 0.0081...</td>\n",
       "    </tr>\n",
       "    <tr>\n",
       "      <th>99</th>\n",
       "      <td>#marketing #programming#development #desarroll...</td>\n",
       "      <td>[[-0.033447266, -0.21972656, 0.01940918, 0.008...</td>\n",
       "      <td>[-0.033447266, -0.21972656, 0.01940918, 0.0081...</td>\n",
       "    </tr>\n",
       "  </tbody>\n",
       "</table>\n",
       "<p>88 rows × 3 columns</p>\n",
       "</div>"
      ],
      "text/plain": [
       "                                             Hashtags   \n",
       "0   #MachineLearning #AI #DataAnalytics #DataScien...  \\\n",
       "1    #deck .#mac #macintosh#sayhello #apple #steve...   \n",
       "2   #whoiswho #aitrading #ai #aitradingteam#instat...   \n",
       "4   #instamachinelearning #instabigdata#instamarke...   \n",
       "5   #edtech #learning#educationtechnology #tech #l...   \n",
       "..                                                ...   \n",
       "95  #beverlyhills #realestate#losangelesrealestate...   \n",
       "96  #workspace #work #developer#development #devel...   \n",
       "97  #books #book #motivation #inspiration #life#bo...   \n",
       "98  #heavyequipment #underconstruction#dozer #real...   \n",
       "99  #marketing #programming#development #desarroll...   \n",
       "\n",
       "                                   hashtags_embedding   \n",
       "0   [[-0.033447266, -0.21972656, 0.01940918, 0.008...  \\\n",
       "1   [[-0.033447266, -0.21972656, 0.01940918, 0.008...   \n",
       "2   [[-0.033447266, -0.21972656, 0.01940918, 0.008...   \n",
       "4   [[-0.033447266, -0.21972656, 0.01940918, 0.008...   \n",
       "5   [[-0.033447266, -0.21972656, 0.01940918, 0.008...   \n",
       "..                                                ...   \n",
       "95  [[-0.033447266, -0.21972656, 0.01940918, 0.008...   \n",
       "96  [[-0.033447266, -0.21972656, 0.01940918, 0.008...   \n",
       "97  [[-0.033447266, -0.21972656, 0.01940918, 0.008...   \n",
       "98  [[-0.033447266, -0.21972656, 0.01940918, 0.008...   \n",
       "99  [[-0.033447266, -0.21972656, 0.01940918, 0.008...   \n",
       "\n",
       "                              hashtags_embedding_flat  \n",
       "0   [-0.033447266, -0.21972656, 0.01940918, 0.0081...  \n",
       "1   [-0.033447266, -0.21972656, 0.01940918, 0.0081...  \n",
       "2   [-0.033447266, -0.21972656, 0.01940918, 0.0081...  \n",
       "4   [-0.033447266, -0.21972656, 0.01940918, 0.0081...  \n",
       "5   [-0.033447266, -0.21972656, 0.01940918, 0.0081...  \n",
       "..                                                ...  \n",
       "95  [-0.033447266, -0.21972656, 0.01940918, 0.0081...  \n",
       "96  [-0.033447266, -0.21972656, 0.01940918, 0.0081...  \n",
       "97  [-0.033447266, -0.21972656, 0.01940918, 0.0081...  \n",
       "98  [-0.033447266, -0.21972656, 0.01940918, 0.0081...  \n",
       "99  [-0.033447266, -0.21972656, 0.01940918, 0.0081...  \n",
       "\n",
       "[88 rows x 3 columns]"
      ]
     },
     "execution_count": 81,
     "metadata": {},
     "output_type": "execute_result"
    }
   ],
   "source": [
    "# Flatten the hasgtags_embedding column\n",
    "df['hashtags_embedding_flat'] = df['hashtags_embedding'].apply(lambda x: np.array(x).flatten())\n",
    "\n",
    "df[['Hashtags', 'hashtags_embedding', 'hashtags_embedding_flat']]"
   ]
  },
  {
   "attachments": {},
   "cell_type": "markdown",
   "metadata": {},
   "source": [
    "### Training Data preperation"
   ]
  },
  {
   "cell_type": "code",
   "execution_count": 82,
   "metadata": {},
   "outputs": [
    {
     "data": {
      "text/plain": [
       "Index(['Caption', 'Followers', 'Hashtags', 'Time since posted', 'Likes',\n",
       "       'caption_embedding', 'caption_embedding_flat', 'hashtags_embedding',\n",
       "       'hashtags_embedding_flat'],\n",
       "      dtype='object')"
      ]
     },
     "execution_count": 82,
     "metadata": {},
     "output_type": "execute_result"
    }
   ],
   "source": [
    "df.columns"
   ]
  },
  {
   "cell_type": "code",
   "execution_count": 84,
   "metadata": {},
   "outputs": [],
   "source": [
    "# Get the 'caption_embedding_flat' arrays from the DataFrame\n",
    "caption_embeddings = df['caption_embedding_flat'].values\n",
    "\n",
    "# Determine the minimum size along the second axis (dimension 1)\n",
    "min_size = min([len(arr) for arr in caption_embeddings])\n",
    "\n",
    "# Trim the 'caption_embedding_flat' arrays to have the same size\n",
    "caption_embeddings = [arr[:min_size] for arr in caption_embeddings]\n",
    "\n",
    "# Stack the trimmed arrays using np.vstack\n",
    "caption_embedding_flat = np.vstack(caption_embeddings)"
   ]
  },
  {
   "cell_type": "code",
   "execution_count": 88,
   "metadata": {},
   "outputs": [],
   "source": [
    "# Get the 'hashtags_embedding_flat' arrays from the DataFrame\n",
    "hashtags_embeddings = df['hashtags_embedding_flat'].values\n",
    "\n",
    "# Determine the minimum size along the second axis (dimension 1)\n",
    "min_size = min([len(arr) for arr in hashtags_embeddings])\n",
    "\n",
    "# Trim the 'caption_embedding_flat' arrays to have the same size\n",
    "hashtags_embeddings = [arr[:min_size] for arr in hashtags_embeddings]\n",
    "\n",
    "# Stack the trimmed arrays using np.vstack\n",
    "hashtags_embedding_flat = np.vstack(hashtags_embeddings)"
   ]
  },
  {
   "cell_type": "code",
   "execution_count": 91,
   "metadata": {},
   "outputs": [],
   "source": [
    "# Reshape the 'Followers' array to have 2 dimensions\n",
    "followers = df['Followers'].values.reshape(-1, 1)"
   ]
  },
  {
   "cell_type": "code",
   "execution_count": 92,
   "metadata": {},
   "outputs": [],
   "source": [
    "\n",
    "# Convert embedded captions, followers, embedded hashtags, and target variables to numpy arrays\n",
    "# Combine input features into a single array\n",
    "X = np.hstack((caption_embedding_flat, hashtags_embedding_flat, followers))\n",
    "\n",
    "# Extract target variables\n",
    "y = df[['Time since posted', 'Likes']].values\n",
    "\n",
    "# Split the data into training and testing sets\n",
    "X_train, X_test, y_train, y_test = train_test_split(X, y, test_size=0.2, random_state=42)\n"
   ]
  },
  {
   "attachments": {},
   "cell_type": "markdown",
   "metadata": {},
   "source": [
    "### Model Training"
   ]
  },
  {
   "cell_type": "code",
   "execution_count": 93,
   "metadata": {},
   "outputs": [
    {
     "data": {
      "text/html": [
       "<style>#sk-container-id-1 {color: black;background-color: white;}#sk-container-id-1 pre{padding: 0;}#sk-container-id-1 div.sk-toggleable {background-color: white;}#sk-container-id-1 label.sk-toggleable__label {cursor: pointer;display: block;width: 100%;margin-bottom: 0;padding: 0.3em;box-sizing: border-box;text-align: center;}#sk-container-id-1 label.sk-toggleable__label-arrow:before {content: \"▸\";float: left;margin-right: 0.25em;color: #696969;}#sk-container-id-1 label.sk-toggleable__label-arrow:hover:before {color: black;}#sk-container-id-1 div.sk-estimator:hover label.sk-toggleable__label-arrow:before {color: black;}#sk-container-id-1 div.sk-toggleable__content {max-height: 0;max-width: 0;overflow: hidden;text-align: left;background-color: #f0f8ff;}#sk-container-id-1 div.sk-toggleable__content pre {margin: 0.2em;color: black;border-radius: 0.25em;background-color: #f0f8ff;}#sk-container-id-1 input.sk-toggleable__control:checked~div.sk-toggleable__content {max-height: 200px;max-width: 100%;overflow: auto;}#sk-container-id-1 input.sk-toggleable__control:checked~label.sk-toggleable__label-arrow:before {content: \"▾\";}#sk-container-id-1 div.sk-estimator input.sk-toggleable__control:checked~label.sk-toggleable__label {background-color: #d4ebff;}#sk-container-id-1 div.sk-label input.sk-toggleable__control:checked~label.sk-toggleable__label {background-color: #d4ebff;}#sk-container-id-1 input.sk-hidden--visually {border: 0;clip: rect(1px 1px 1px 1px);clip: rect(1px, 1px, 1px, 1px);height: 1px;margin: -1px;overflow: hidden;padding: 0;position: absolute;width: 1px;}#sk-container-id-1 div.sk-estimator {font-family: monospace;background-color: #f0f8ff;border: 1px dotted black;border-radius: 0.25em;box-sizing: border-box;margin-bottom: 0.5em;}#sk-container-id-1 div.sk-estimator:hover {background-color: #d4ebff;}#sk-container-id-1 div.sk-parallel-item::after {content: \"\";width: 100%;border-bottom: 1px solid gray;flex-grow: 1;}#sk-container-id-1 div.sk-label:hover label.sk-toggleable__label {background-color: #d4ebff;}#sk-container-id-1 div.sk-serial::before {content: \"\";position: absolute;border-left: 1px solid gray;box-sizing: border-box;top: 0;bottom: 0;left: 50%;z-index: 0;}#sk-container-id-1 div.sk-serial {display: flex;flex-direction: column;align-items: center;background-color: white;padding-right: 0.2em;padding-left: 0.2em;position: relative;}#sk-container-id-1 div.sk-item {position: relative;z-index: 1;}#sk-container-id-1 div.sk-parallel {display: flex;align-items: stretch;justify-content: center;background-color: white;position: relative;}#sk-container-id-1 div.sk-item::before, #sk-container-id-1 div.sk-parallel-item::before {content: \"\";position: absolute;border-left: 1px solid gray;box-sizing: border-box;top: 0;bottom: 0;left: 50%;z-index: -1;}#sk-container-id-1 div.sk-parallel-item {display: flex;flex-direction: column;z-index: 1;position: relative;background-color: white;}#sk-container-id-1 div.sk-parallel-item:first-child::after {align-self: flex-end;width: 50%;}#sk-container-id-1 div.sk-parallel-item:last-child::after {align-self: flex-start;width: 50%;}#sk-container-id-1 div.sk-parallel-item:only-child::after {width: 0;}#sk-container-id-1 div.sk-dashed-wrapped {border: 1px dashed gray;margin: 0 0.4em 0.5em 0.4em;box-sizing: border-box;padding-bottom: 0.4em;background-color: white;}#sk-container-id-1 div.sk-label label {font-family: monospace;font-weight: bold;display: inline-block;line-height: 1.2em;}#sk-container-id-1 div.sk-label-container {text-align: center;}#sk-container-id-1 div.sk-container {/* jupyter's `normalize.less` sets `[hidden] { display: none; }` but bootstrap.min.css set `[hidden] { display: none !important; }` so we also need the `!important` here to be able to override the default hidden behavior on the sphinx rendered scikit-learn.org. See: https://github.com/scikit-learn/scikit-learn/issues/21755 */display: inline-block !important;position: relative;}#sk-container-id-1 div.sk-text-repr-fallback {display: none;}</style><div id=\"sk-container-id-1\" class=\"sk-top-container\"><div class=\"sk-text-repr-fallback\"><pre>MultiOutputRegressor(estimator=LinearRegression())</pre><b>In a Jupyter environment, please rerun this cell to show the HTML representation or trust the notebook. <br />On GitHub, the HTML representation is unable to render, please try loading this page with nbviewer.org.</b></div><div class=\"sk-container\" hidden><div class=\"sk-item sk-dashed-wrapped\"><div class=\"sk-label-container\"><div class=\"sk-label sk-toggleable\"><input class=\"sk-toggleable__control sk-hidden--visually\" id=\"sk-estimator-id-1\" type=\"checkbox\" ><label for=\"sk-estimator-id-1\" class=\"sk-toggleable__label sk-toggleable__label-arrow\">MultiOutputRegressor</label><div class=\"sk-toggleable__content\"><pre>MultiOutputRegressor(estimator=LinearRegression())</pre></div></div></div><div class=\"sk-parallel\"><div class=\"sk-parallel-item\"><div class=\"sk-item\"><div class=\"sk-label-container\"><div class=\"sk-label sk-toggleable\"><input class=\"sk-toggleable__control sk-hidden--visually\" id=\"sk-estimator-id-2\" type=\"checkbox\" ><label for=\"sk-estimator-id-2\" class=\"sk-toggleable__label sk-toggleable__label-arrow\">estimator: LinearRegression</label><div class=\"sk-toggleable__content\"><pre>LinearRegression()</pre></div></div></div><div class=\"sk-serial\"><div class=\"sk-item\"><div class=\"sk-estimator sk-toggleable\"><input class=\"sk-toggleable__control sk-hidden--visually\" id=\"sk-estimator-id-3\" type=\"checkbox\" ><label for=\"sk-estimator-id-3\" class=\"sk-toggleable__label sk-toggleable__label-arrow\">LinearRegression</label><div class=\"sk-toggleable__content\"><pre>LinearRegression()</pre></div></div></div></div></div></div></div></div></div></div>"
      ],
      "text/plain": [
       "MultiOutputRegressor(estimator=LinearRegression())"
      ]
     },
     "execution_count": 93,
     "metadata": {},
     "output_type": "execute_result"
    }
   ],
   "source": [
    "# Create and train a linear regression model\n",
    "model = MultiOutputRegressor(LinearRegression())\n",
    "model.fit(X_train, y_train)"
   ]
  },
  {
   "attachments": {},
   "cell_type": "markdown",
   "metadata": {},
   "source": [
    "### Model Evaluation"
   ]
  },
  {
   "cell_type": "code",
   "execution_count": 96,
   "metadata": {},
   "outputs": [
    {
     "name": "stdout",
     "output_type": "stream",
     "text": [
      "Root Mean Squared Error (RMSE): 55.7063142448977\n",
      "R-squared (R2) Score: -0.4223930473463329\n"
     ]
    }
   ],
   "source": [
    "# Evaluate the model\n",
    "y_pred = model.predict(X_test)\n",
    "test_score = model.score(X_test, y_test)\n",
    "\n",
    "# Calculate RMSE\n",
    "rmse = np.sqrt(mean_squared_error(y_test, y_pred))\n",
    "print(\"Root Mean Squared Error (RMSE):\", rmse)\n",
    "\n",
    "# Calculate R2 score\n",
    "r2 = r2_score(y_test, y_pred)\n",
    "print(\"R-squared (R2) Score:\", r2)"
   ]
  },
  {
   "cell_type": "code",
   "execution_count": null,
   "metadata": {},
   "outputs": [],
   "source": []
  }
 ],
 "metadata": {
  "kernelspec": {
   "display_name": "assesment",
   "language": "python",
   "name": "python3"
  },
  "language_info": {
   "codemirror_mode": {
    "name": "ipython",
    "version": 3
   },
   "file_extension": ".py",
   "mimetype": "text/x-python",
   "name": "python",
   "nbconvert_exporter": "python",
   "pygments_lexer": "ipython3",
   "version": "3.9.16"
  },
  "orig_nbformat": 4
 },
 "nbformat": 4,
 "nbformat_minor": 2
}
